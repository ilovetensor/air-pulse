{
 "cells": [
  {
   "cell_type": "code",
   "execution_count": 1,
   "id": "5fb28333-1be9-4cc4-9168-7ca5524db1e8",
   "metadata": {
    "ExecuteTime": {
     "end_time": "2024-01-10T04:18:58.255387596Z",
     "start_time": "2024-01-10T04:18:58.251899357Z"
    }
   },
   "outputs": [],
   "source": [
    "import pandas as pd"
   ]
  },
  {
   "cell_type": "code",
   "execution_count": 2,
   "id": "70201819-bfce-4bda-8b51-65f821cbf442",
   "metadata": {
    "ExecuteTime": {
     "end_time": "2024-01-10T04:19:04.897232419Z",
     "start_time": "2024-01-10T04:19:04.870939692Z"
    }
   },
   "outputs": [],
   "source": [
    "text = 'All_India'"
   ]
  },
  {
   "cell_type": "code",
   "execution_count": 3,
   "id": "9d5e3f98-74f5-46a2-9791-d75364d05a01",
   "metadata": {
    "ExecuteTime": {
     "end_time": "2024-01-10T04:19:05.841132889Z",
     "start_time": "2024-01-10T04:19:05.818275913Z"
    }
   },
   "outputs": [],
   "source": [
    "yer = [str(i) for i in range(2008,2016)]"
   ]
  },
  {
   "cell_type": "code",
   "execution_count": 4,
   "outputs": [
    {
     "data": {
      "text/plain": "['2008', '2009', '2010', '2011', '2012', '2013', '2014', '2015']"
     },
     "execution_count": 4,
     "metadata": {},
     "output_type": "execute_result"
    }
   ],
   "source": [
    "yer\n"
   ],
   "metadata": {
    "collapsed": false,
    "ExecuteTime": {
     "end_time": "2024-01-10T04:19:09.336222539Z",
     "start_time": "2024-01-10T04:19:09.294682617Z"
    }
   },
   "id": "396ad201dd6d6180"
  },
  {
   "cell_type": "code",
   "execution_count": 5,
   "id": "5fb5964c-5404-41a3-b7fa-977a77adb4f9",
   "metadata": {
    "ExecuteTime": {
     "end_time": "2024-01-10T04:19:19.521907626Z",
     "start_time": "2024-01-10T04:19:19.504503953Z"
    }
   },
   "outputs": [],
   "source": [
    "files = [text+i+'.csv' for i in yer]"
   ]
  },
  {
   "cell_type": "code",
   "execution_count": 6,
   "outputs": [
    {
     "data": {
      "text/plain": "['All_India2008.csv',\n 'All_India2009.csv',\n 'All_India2010.csv',\n 'All_India2011.csv',\n 'All_India2012.csv',\n 'All_India2013.csv',\n 'All_India2014.csv',\n 'All_India2015.csv']"
     },
     "execution_count": 6,
     "metadata": {},
     "output_type": "execute_result"
    }
   ],
   "source": [
    "files"
   ],
   "metadata": {
    "collapsed": false,
    "ExecuteTime": {
     "end_time": "2024-01-10T04:19:22.423972879Z",
     "start_time": "2024-01-10T04:19:22.409093224Z"
    }
   },
   "id": "bccec5f9df14c578"
  },
  {
   "cell_type": "code",
   "execution_count": 56,
   "id": "43d81447-1b19-4c39-90fa-90610cd98637",
   "metadata": {},
   "outputs": [],
   "source": [
    "dfs = [pd.read_csv(i) for i in files]"
   ]
  },
  {
   "cell_type": "code",
   "execution_count": null,
   "id": "b4b592e4-3f8a-4663-aa8e-1e469bb9dea2",
   "metadata": {},
   "outputs": [],
   "source": []
  },
  {
   "cell_type": "code",
   "execution_count": 57,
   "id": "cb3a2325-8235-4cd2-b285-ae1bc6a0e68c",
   "metadata": {},
   "outputs": [
    {
     "name": "stdout",
     "output_type": "stream",
     "text": [
      "2008\n",
      "Index(['state', 'id', 'para', 'total', 'April', 'May', 'June', 'July',\n",
      "       'August', 'September', 'October', 'November', 'December', 'January',\n",
      "       'February', 'March', 'Total'],\n",
      "      dtype='object')\n",
      "(37, 15)\n",
      "1\n",
      "2009\n",
      "Index(['state', 'id', 'para', 'total', 'April', 'May', 'June', 'July',\n",
      "       'August', 'September', 'October', 'November', 'December', 'January',\n",
      "       'February', 'March', 'Total'],\n",
      "      dtype='object')\n",
      "(37, 15)\n",
      "2\n",
      "2010\n",
      "Index(['state', 'id', 'para', 'total', 'April', 'May', 'June', 'July',\n",
      "       'August', 'September', 'October', 'November', 'December', 'January',\n",
      "       'February', 'March', 'Total'],\n",
      "      dtype='object')\n",
      "(37, 15)\n",
      "3\n",
      "2011\n",
      "Index(['state', 'id', 'para', 'total', 'April', 'May', 'June', 'July',\n",
      "       'August', 'September', 'October', 'November', 'December', 'January',\n",
      "       'February', 'March', 'Total'],\n",
      "      dtype='object')\n",
      "(37, 15)\n",
      "4\n",
      "2012\n",
      "Index(['state', 'id', 'para', 'total', 'April', 'May', 'June', 'July',\n",
      "       'August', 'September', 'October', 'November', 'December', 'January',\n",
      "       'February', 'March', 'Total', 'Unnamed: 17', 'Unnamed: 18'],\n",
      "      dtype='object')\n",
      "(37, 17)\n",
      "5\n",
      "2013\n",
      "Index(['state', 'id', 'para', 'total', 'April', 'May', 'June', 'July',\n",
      "       'August', 'September', 'October', 'November', 'December', 'January',\n",
      "       'February', 'March', 'Total'],\n",
      "      dtype='object')\n",
      "(37, 15)\n",
      "6\n",
      "2014\n",
      "Index(['state', 'id', 'para', 'total', 'April', 'May', 'June', 'July',\n",
      "       'August', 'September', 'October', 'November', 'December', 'January',\n",
      "       'February', 'March', 'Total'],\n",
      "      dtype='object')\n",
      "(37, 15)\n",
      "7\n",
      "2015\n",
      "Index(['state', 'id', 'para', 'total', 'April', 'May', 'June', 'July',\n",
      "       'August', 'September', 'October', 'November', 'December', 'January',\n",
      "       'February', 'March', 'Total'],\n",
      "      dtype='object')\n",
      "(37, 15)\n",
      "8\n"
     ]
    },
    {
     "name": "stderr",
     "output_type": "stream",
     "text": [
      "/tmp/ipykernel_22892/2867309718.py:21: SettingWithCopyWarning: \n",
      "A value is trying to be set on a copy of a slice from a DataFrame.\n",
      "Try using .loc[row_indexer,col_indexer] = value instead\n",
      "\n",
      "See the caveats in the documentation: https://pandas.pydata.org/pandas-docs/stable/user_guide/indexing.html#returning-a-view-versus-a-copy\n",
      "  filter['state'] = states\n",
      "/tmp/ipykernel_22892/2867309718.py:22: SettingWithCopyWarning: \n",
      "A value is trying to be set on a copy of a slice from a DataFrame.\n",
      "Try using .loc[row_indexer,col_indexer] = value instead\n",
      "\n",
      "See the caveats in the documentation: https://pandas.pydata.org/pandas-docs/stable/user_guide/indexing.html#returning-a-view-versus-a-copy\n",
      "  filter['year'] = int(y)\n",
      "/tmp/ipykernel_22892/2867309718.py:21: SettingWithCopyWarning: \n",
      "A value is trying to be set on a copy of a slice from a DataFrame.\n",
      "Try using .loc[row_indexer,col_indexer] = value instead\n",
      "\n",
      "See the caveats in the documentation: https://pandas.pydata.org/pandas-docs/stable/user_guide/indexing.html#returning-a-view-versus-a-copy\n",
      "  filter['state'] = states\n",
      "/tmp/ipykernel_22892/2867309718.py:22: SettingWithCopyWarning: \n",
      "A value is trying to be set on a copy of a slice from a DataFrame.\n",
      "Try using .loc[row_indexer,col_indexer] = value instead\n",
      "\n",
      "See the caveats in the documentation: https://pandas.pydata.org/pandas-docs/stable/user_guide/indexing.html#returning-a-view-versus-a-copy\n",
      "  filter['year'] = int(y)\n",
      "/tmp/ipykernel_22892/2867309718.py:21: SettingWithCopyWarning: \n",
      "A value is trying to be set on a copy of a slice from a DataFrame.\n",
      "Try using .loc[row_indexer,col_indexer] = value instead\n",
      "\n",
      "See the caveats in the documentation: https://pandas.pydata.org/pandas-docs/stable/user_guide/indexing.html#returning-a-view-versus-a-copy\n",
      "  filter['state'] = states\n",
      "/tmp/ipykernel_22892/2867309718.py:22: SettingWithCopyWarning: \n",
      "A value is trying to be set on a copy of a slice from a DataFrame.\n",
      "Try using .loc[row_indexer,col_indexer] = value instead\n",
      "\n",
      "See the caveats in the documentation: https://pandas.pydata.org/pandas-docs/stable/user_guide/indexing.html#returning-a-view-versus-a-copy\n",
      "  filter['year'] = int(y)\n",
      "/tmp/ipykernel_22892/2867309718.py:21: SettingWithCopyWarning: \n",
      "A value is trying to be set on a copy of a slice from a DataFrame.\n",
      "Try using .loc[row_indexer,col_indexer] = value instead\n",
      "\n",
      "See the caveats in the documentation: https://pandas.pydata.org/pandas-docs/stable/user_guide/indexing.html#returning-a-view-versus-a-copy\n",
      "  filter['state'] = states\n",
      "/tmp/ipykernel_22892/2867309718.py:22: SettingWithCopyWarning: \n",
      "A value is trying to be set on a copy of a slice from a DataFrame.\n",
      "Try using .loc[row_indexer,col_indexer] = value instead\n",
      "\n",
      "See the caveats in the documentation: https://pandas.pydata.org/pandas-docs/stable/user_guide/indexing.html#returning-a-view-versus-a-copy\n",
      "  filter['year'] = int(y)\n",
      "/tmp/ipykernel_22892/2867309718.py:21: SettingWithCopyWarning: \n",
      "A value is trying to be set on a copy of a slice from a DataFrame.\n",
      "Try using .loc[row_indexer,col_indexer] = value instead\n",
      "\n",
      "See the caveats in the documentation: https://pandas.pydata.org/pandas-docs/stable/user_guide/indexing.html#returning-a-view-versus-a-copy\n",
      "  filter['state'] = states\n",
      "/tmp/ipykernel_22892/2867309718.py:22: SettingWithCopyWarning: \n",
      "A value is trying to be set on a copy of a slice from a DataFrame.\n",
      "Try using .loc[row_indexer,col_indexer] = value instead\n",
      "\n",
      "See the caveats in the documentation: https://pandas.pydata.org/pandas-docs/stable/user_guide/indexing.html#returning-a-view-versus-a-copy\n",
      "  filter['year'] = int(y)\n",
      "/tmp/ipykernel_22892/2867309718.py:21: SettingWithCopyWarning: \n",
      "A value is trying to be set on a copy of a slice from a DataFrame.\n",
      "Try using .loc[row_indexer,col_indexer] = value instead\n",
      "\n",
      "See the caveats in the documentation: https://pandas.pydata.org/pandas-docs/stable/user_guide/indexing.html#returning-a-view-versus-a-copy\n",
      "  filter['state'] = states\n",
      "/tmp/ipykernel_22892/2867309718.py:22: SettingWithCopyWarning: \n",
      "A value is trying to be set on a copy of a slice from a DataFrame.\n",
      "Try using .loc[row_indexer,col_indexer] = value instead\n",
      "\n",
      "See the caveats in the documentation: https://pandas.pydata.org/pandas-docs/stable/user_guide/indexing.html#returning-a-view-versus-a-copy\n",
      "  filter['year'] = int(y)\n",
      "/tmp/ipykernel_22892/2867309718.py:21: SettingWithCopyWarning: \n",
      "A value is trying to be set on a copy of a slice from a DataFrame.\n",
      "Try using .loc[row_indexer,col_indexer] = value instead\n",
      "\n",
      "See the caveats in the documentation: https://pandas.pydata.org/pandas-docs/stable/user_guide/indexing.html#returning-a-view-versus-a-copy\n",
      "  filter['state'] = states\n",
      "/tmp/ipykernel_22892/2867309718.py:22: SettingWithCopyWarning: \n",
      "A value is trying to be set on a copy of a slice from a DataFrame.\n",
      "Try using .loc[row_indexer,col_indexer] = value instead\n",
      "\n",
      "See the caveats in the documentation: https://pandas.pydata.org/pandas-docs/stable/user_guide/indexing.html#returning-a-view-versus-a-copy\n",
      "  filter['year'] = int(y)\n",
      "/tmp/ipykernel_22892/2867309718.py:21: SettingWithCopyWarning: \n",
      "A value is trying to be set on a copy of a slice from a DataFrame.\n",
      "Try using .loc[row_indexer,col_indexer] = value instead\n",
      "\n",
      "See the caveats in the documentation: https://pandas.pydata.org/pandas-docs/stable/user_guide/indexing.html#returning-a-view-versus-a-copy\n",
      "  filter['state'] = states\n",
      "/tmp/ipykernel_22892/2867309718.py:22: SettingWithCopyWarning: \n",
      "A value is trying to be set on a copy of a slice from a DataFrame.\n",
      "Try using .loc[row_indexer,col_indexer] = value instead\n",
      "\n",
      "See the caveats in the documentation: https://pandas.pydata.org/pandas-docs/stable/user_guide/indexing.html#returning-a-view-versus-a-copy\n",
      "  filter['year'] = int(y)\n"
     ]
    }
   ],
   "source": [
    "n = 4\n",
    "dfs_ = []\n",
    "for i in range(8):\n",
    "    y = yer[i]\n",
    "    print(y)\n",
    "    df = dfs[i]\n",
    "    print(df.columns)\n",
    "    df = df.drop(['id','total'], axis=1)\n",
    "    resp = 'Number of children below 5 years of age admitted with Respiratory Infections'\n",
    "    filter = df[df.para == resp]\n",
    "    print(filter.shape)\n",
    "    states = [ 'A & N Islands', 'Andhra Pradesh',\n",
    "              'Arunachal Pradesh', 'Assam', 'Bihar', 'Chandigarh', \n",
    "              'Chhattisgarh', 'Dadra & Nagar Haveli', 'Daman & Diu', \n",
    "              'Delhi', 'Goa', 'Gujarat', 'Haryana', 'Himachal Pradesh', \n",
    "              'Jammu & Kashmir', 'Jharkhand', 'Karnataka', 'Kerala', 'Lakshadweep',\n",
    "              'M/O Defence', 'M/O Railways', 'Madhya Pradesh', 'Maharashtra', 'Manipur',\n",
    "              'Meghalaya', 'Mizoram', 'Nagaland', 'Odisha', 'Puducherry', \n",
    "              'Punjab', 'Rajasthan', 'Sikkim', 'Tamil Nadu', 'Tripura',\n",
    "              'Uttar Pradesh', 'Uttarakhand', 'West Bengal', ]\n",
    "    filter['state'] = states\n",
    "    filter['year'] = int(y)\n",
    "    filter = filter.drop('para',axis=1)\n",
    "    cols = ['state', 'January', 'February', 'March',\n",
    "            'April', 'May', 'June', 'July', 'August', 'September',\n",
    "       'October', 'November', 'December', \n",
    "       'Total', 'year']\n",
    "    \n",
    "    dfs_.append(filter[cols])\n",
    "\n",
    "    print(len(dfs_))"
   ]
  },
  {
   "cell_type": "code",
   "execution_count": null,
   "id": "04ba6acd-84fe-4b8d-8419-f9342fe1767c",
   "metadata": {},
   "outputs": [],
   "source": []
  },
  {
   "cell_type": "code",
   "execution_count": 36,
   "id": "862a8421-a6dd-4cd6-8f88-3ae5e441175f",
   "metadata": {},
   "outputs": [],
   "source": [
    "\n",
    "df_f = pd.concat(dfs_)\n",
    "df_f.dropna(inplace=True)"
   ]
  },
  {
   "cell_type": "code",
   "execution_count": 37,
   "id": "b5d87123-642d-4a99-ad34-1d7ee7433add",
   "metadata": {},
   "outputs": [],
   "source": [
    "df_f.to_csv('respiratory_problems_08_to_15.csv', index=None)"
   ]
  },
  {
   "cell_type": "code",
   "execution_count": 38,
   "id": "4c353428-b988-417d-9511-a2e5cb98caff",
   "metadata": {},
   "outputs": [],
   "source": [
    "cols = ['state', 'Jan', 'Feb', 'Mar',\n",
    "            'Apr', 'May', 'Jun', 'Jul', 'Aug', 'Sep',\n",
    "       'Oct', 'Nov', 'Dec', \n",
    "       'Total', 'year']"
   ]
  },
  {
   "cell_type": "code",
   "execution_count": 39,
   "id": "320e464a-02d2-4a2c-ae59-074e0b3d050b",
   "metadata": {},
   "outputs": [
    {
     "ename": "SyntaxError",
     "evalue": "invalid syntax (1046276571.py, line 1)",
     "output_type": "error",
     "traceback": [
      "\u001B[0;36m  Cell \u001B[0;32mIn[39], line 1\u001B[0;36m\u001B[0m\n\u001B[0;31m    Telangana\t1.1\tTotal number of pregnant women Registered for ANC\tTOTAL\t79120\t72298\t79234\t78862\t74393\t67802\t64503\t77145\t72197\t68221\t71938\t71126\t876839\u001B[0m\n\u001B[0m             \t^\u001B[0m\n\u001B[0;31mSyntaxError\u001B[0m\u001B[0;31m:\u001B[0m invalid syntax\n"
     ]
    }
   ],
   "source": [
    "Telangana\t1.1\tTotal number of pregnant women Registered for ANC\tTOTAL\t79120\t72298\t79234\t78862\t74393\t67802\t64503\t77145\t72197\t68221\t71938\t71126\t876839\n"
   ]
  },
  {
   "cell_type": "code",
   "execution_count": 41,
   "id": "b175896e-185e-461e-b797-948f7948ad42",
   "metadata": {},
   "outputs": [
    {
     "data": {
      "text/plain": [
       "(38, 15)"
      ]
     },
     "execution_count": 41,
     "metadata": {},
     "output_type": "execute_result"
    }
   ],
   "source": [
    "filter.drop(filter[filter.state == 'Telangana'].index).shape"
   ]
  },
  {
   "cell_type": "code",
   "execution_count": 45,
   "id": "2f74b944-552f-48f4-99f0-7a83f8caf61b",
   "metadata": {},
   "outputs": [
    {
     "data": {
      "text/plain": [
       "'Number of children below 5 years of age admitted with Respiratory Infections'"
      ]
     },
     "execution_count": 45,
     "metadata": {},
     "output_type": "execute_result"
    }
   ],
   "source": [
    "filter.para[154]"
   ]
  },
  {
   "cell_type": "code",
   "execution_count": null,
   "id": "9fe3e5e3-973d-421a-91e0-57defc7e0997",
   "metadata": {},
   "outputs": [],
   "source": []
  }
 ],
 "metadata": {
  "kernelspec": {
   "display_name": "Python 3 (ipykernel)",
   "language": "python",
   "name": "python3"
  },
  "language_info": {
   "codemirror_mode": {
    "name": "ipython",
    "version": 3
   },
   "file_extension": ".py",
   "mimetype": "text/x-python",
   "name": "python",
   "nbconvert_exporter": "python",
   "pygments_lexer": "ipython3",
   "version": "3.11.0rc1"
  }
 },
 "nbformat": 4,
 "nbformat_minor": 5
}
