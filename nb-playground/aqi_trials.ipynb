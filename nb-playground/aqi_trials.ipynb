{
 "cells": [
  {
   "cell_type": "code",
   "execution_count": 1,
   "id": "initial_id",
   "metadata": {
    "ExecuteTime": {
     "end_time": "2024-01-07T20:05:27.485956313Z",
     "start_time": "2024-01-07T20:05:27.051159340Z"
    }
   },
   "outputs": [],
   "source": [
    "import numpy as np\n",
    "import pandas as pd\n"
   ]
  },
  {
   "cell_type": "code",
   "execution_count": 2,
   "id": "d9802202311b84e6",
   "metadata": {
    "collapsed": false,
    "ExecuteTime": {
     "end_time": "2024-01-07T20:05:27.487274401Z",
     "start_time": "2024-01-07T20:05:27.475027222Z"
    }
   },
   "outputs": [],
   "source": [
    "df = pd.read_csv('dataset/live_data.csv')"
   ]
  },
  {
   "cell_type": "code",
   "execution_count": 3,
   "id": "aa71c3be0baf9991",
   "metadata": {
    "collapsed": false,
    "ExecuteTime": {
     "end_time": "2024-01-07T20:05:27.531418782Z",
     "start_time": "2024-01-07T20:05:27.486539660Z"
    }
   },
   "outputs": [
    {
     "data": {
      "text/plain": "  country           state       city                              station  \\\n0   India  Andhra_Pradesh  Anantapur         Gulzarpet, Anantapur - APPCB   \n1   India  Andhra_Pradesh  Anantapur         Gulzarpet, Anantapur - APPCB   \n2   India  Andhra_Pradesh   Chittoor  Gangineni Cheruvu, Chittoor - APPCB   \n3   India  Andhra_Pradesh   Chittoor  Gangineni Cheruvu, Chittoor - APPCB   \n4   India  Andhra_Pradesh     Kadapa      Yerramukkapalli, Kadapa - APPCB   \n\n           last_update   latitude  longitude pollutant_id  pollutant_min  \\\n0  07-01-2024 09:00:00  14.675886  77.593027          SO2            4.0   \n1  07-01-2024 09:00:00  14.675886  77.593027        OZONE           17.0   \n2  07-01-2024 09:00:00  13.204880  79.097889          SO2            7.0   \n3  07-01-2024 09:00:00  13.204880  79.097889           CO            2.0   \n4  07-01-2024 09:00:00  14.465052  78.824187          NH3            NaN   \n\n   pollutant_max  pollutant_avg  \n0            7.0            5.0  \n1           39.0           22.0  \n2           41.0           14.0  \n3           20.0            8.0  \n4            NaN            NaN  ",
      "text/html": "<div>\n<style scoped>\n    .dataframe tbody tr th:only-of-type {\n        vertical-align: middle;\n    }\n\n    .dataframe tbody tr th {\n        vertical-align: top;\n    }\n\n    .dataframe thead th {\n        text-align: right;\n    }\n</style>\n<table border=\"1\" class=\"dataframe\">\n  <thead>\n    <tr style=\"text-align: right;\">\n      <th></th>\n      <th>country</th>\n      <th>state</th>\n      <th>city</th>\n      <th>station</th>\n      <th>last_update</th>\n      <th>latitude</th>\n      <th>longitude</th>\n      <th>pollutant_id</th>\n      <th>pollutant_min</th>\n      <th>pollutant_max</th>\n      <th>pollutant_avg</th>\n    </tr>\n  </thead>\n  <tbody>\n    <tr>\n      <th>0</th>\n      <td>India</td>\n      <td>Andhra_Pradesh</td>\n      <td>Anantapur</td>\n      <td>Gulzarpet, Anantapur - APPCB</td>\n      <td>07-01-2024 09:00:00</td>\n      <td>14.675886</td>\n      <td>77.593027</td>\n      <td>SO2</td>\n      <td>4.0</td>\n      <td>7.0</td>\n      <td>5.0</td>\n    </tr>\n    <tr>\n      <th>1</th>\n      <td>India</td>\n      <td>Andhra_Pradesh</td>\n      <td>Anantapur</td>\n      <td>Gulzarpet, Anantapur - APPCB</td>\n      <td>07-01-2024 09:00:00</td>\n      <td>14.675886</td>\n      <td>77.593027</td>\n      <td>OZONE</td>\n      <td>17.0</td>\n      <td>39.0</td>\n      <td>22.0</td>\n    </tr>\n    <tr>\n      <th>2</th>\n      <td>India</td>\n      <td>Andhra_Pradesh</td>\n      <td>Chittoor</td>\n      <td>Gangineni Cheruvu, Chittoor - APPCB</td>\n      <td>07-01-2024 09:00:00</td>\n      <td>13.204880</td>\n      <td>79.097889</td>\n      <td>SO2</td>\n      <td>7.0</td>\n      <td>41.0</td>\n      <td>14.0</td>\n    </tr>\n    <tr>\n      <th>3</th>\n      <td>India</td>\n      <td>Andhra_Pradesh</td>\n      <td>Chittoor</td>\n      <td>Gangineni Cheruvu, Chittoor - APPCB</td>\n      <td>07-01-2024 09:00:00</td>\n      <td>13.204880</td>\n      <td>79.097889</td>\n      <td>CO</td>\n      <td>2.0</td>\n      <td>20.0</td>\n      <td>8.0</td>\n    </tr>\n    <tr>\n      <th>4</th>\n      <td>India</td>\n      <td>Andhra_Pradesh</td>\n      <td>Kadapa</td>\n      <td>Yerramukkapalli, Kadapa - APPCB</td>\n      <td>07-01-2024 09:00:00</td>\n      <td>14.465052</td>\n      <td>78.824187</td>\n      <td>NH3</td>\n      <td>NaN</td>\n      <td>NaN</td>\n      <td>NaN</td>\n    </tr>\n  </tbody>\n</table>\n</div>"
     },
     "execution_count": 3,
     "metadata": {},
     "output_type": "execute_result"
    }
   ],
   "source": [
    "df.head()"
   ]
  },
  {
   "cell_type": "code",
   "execution_count": 4,
   "id": "319e032b7911d4c6",
   "metadata": {
    "collapsed": false,
    "ExecuteTime": {
     "end_time": "2024-01-07T20:05:27.556410133Z",
     "start_time": "2024-01-07T20:05:27.509687498Z"
    }
   },
   "outputs": [],
   "source": [
    "df.dropna(inplace=True)"
   ]
  },
  {
   "cell_type": "code",
   "execution_count": 5,
   "id": "cea5d119da1e7fe0",
   "metadata": {
    "collapsed": false,
    "ExecuteTime": {
     "end_time": "2024-01-07T20:05:27.591461755Z",
     "start_time": "2024-01-07T20:05:27.517741923Z"
    }
   },
   "outputs": [],
   "source": [
    "df.drop_duplicates(inplace=True)\n",
    "# \n",
    "# df['country_avg'] = \n",
    "\n"
   ]
  },
  {
   "cell_type": "code",
   "execution_count": 6,
   "id": "232c080488742910",
   "metadata": {
    "collapsed": false,
    "ExecuteTime": {
     "end_time": "2024-01-07T20:05:27.612472529Z",
     "start_time": "2024-01-07T20:05:27.561612282Z"
    }
   },
   "outputs": [],
   "source": [
    "dd = df.groupby(['state','pollutant_id'])['pollutant_avg'].mean()"
   ]
  },
  {
   "cell_type": "code",
   "execution_count": 6,
   "id": "ff360b466ce6419e",
   "metadata": {
    "collapsed": false,
    "ExecuteTime": {
     "end_time": "2024-01-07T20:05:28.216280680Z",
     "start_time": "2024-01-07T20:05:28.212375802Z"
    }
   },
   "outputs": [],
   "source": []
  },
  {
   "cell_type": "code",
   "execution_count": 7,
   "id": "876dc48eb7a68a8d",
   "metadata": {
    "collapsed": false,
    "ExecuteTime": {
     "end_time": "2024-01-07T20:05:29.109665908Z",
     "start_time": "2024-01-07T20:05:29.099323858Z"
    }
   },
   "outputs": [],
   "source": [
    "country_avg = df.groupby('pollutant_id')['pollutant_avg'].mean()\n",
    "state_avg = df.groupby(['state','pollutant_id'])['pollutant_avg'].mean()\n",
    "\n"
   ]
  },
  {
   "cell_type": "code",
   "execution_count": 45,
   "outputs": [],
   "source": [
    "filtered_state = state_avg.xs('SO2', level='pollutant_id')"
   ],
   "metadata": {
    "collapsed": false,
    "ExecuteTime": {
     "end_time": "2024-01-07T20:24:29.537513992Z",
     "start_time": "2024-01-07T20:24:29.490917353Z"
    }
   },
   "id": "2a8459367f58896d"
  },
  {
   "cell_type": "code",
   "execution_count": 50,
   "id": "71bf85944521d4fe",
   "metadata": {
    "collapsed": false,
    "ExecuteTime": {
     "end_time": "2024-01-07T21:11:03.628703928Z",
     "start_time": "2024-01-07T21:11:03.582596363Z"
    }
   },
   "outputs": [],
   "source": [
    "dd = filtered_state.to_dict()"
   ]
  },
  {
   "cell_type": "code",
   "execution_count": 52,
   "outputs": [],
   "source": [
    "f['avg'] = f['NAME_1'].map(dd)"
   ],
   "metadata": {
    "collapsed": false,
    "ExecuteTime": {
     "end_time": "2024-01-07T21:11:38.101892669Z",
     "start_time": "2024-01-07T21:11:38.059029723Z"
    }
   },
   "id": "f0cecbd6ee1153e1"
  },
  {
   "cell_type": "code",
   "execution_count": 53,
   "outputs": [
    {
     "data": {
      "text/plain": "              NAME_1                                           geometry  \\\n1     Andhra Pradesh  MULTIPOLYGON (((80.27458 13.45958, 80.27458 13...   \n2  Arunachal Pradesh  POLYGON ((96.15778 29.38310, 96.16380 29.37668...   \n3              Assam  MULTIPOLYGON (((89.87145 25.53730, 89.87118 25...   \n4              Bihar  MULTIPOLYGON (((88.10548 26.53904, 88.10505 26...   \n5         Chandigarh  POLYGON ((76.81981 30.68583, 76.81051 30.68495...   \n\n         avg  \n1        NaN  \n2        NaN  \n3        NaN  \n4  20.833333  \n5        NaN  ",
      "text/html": "<div>\n<style scoped>\n    .dataframe tbody tr th:only-of-type {\n        vertical-align: middle;\n    }\n\n    .dataframe tbody tr th {\n        vertical-align: top;\n    }\n\n    .dataframe thead th {\n        text-align: right;\n    }\n</style>\n<table border=\"1\" class=\"dataframe\">\n  <thead>\n    <tr style=\"text-align: right;\">\n      <th></th>\n      <th>NAME_1</th>\n      <th>geometry</th>\n      <th>avg</th>\n    </tr>\n  </thead>\n  <tbody>\n    <tr>\n      <th>1</th>\n      <td>Andhra Pradesh</td>\n      <td>MULTIPOLYGON (((80.27458 13.45958, 80.27458 13...</td>\n      <td>NaN</td>\n    </tr>\n    <tr>\n      <th>2</th>\n      <td>Arunachal Pradesh</td>\n      <td>POLYGON ((96.15778 29.38310, 96.16380 29.37668...</td>\n      <td>NaN</td>\n    </tr>\n    <tr>\n      <th>3</th>\n      <td>Assam</td>\n      <td>MULTIPOLYGON (((89.87145 25.53730, 89.87118 25...</td>\n      <td>NaN</td>\n    </tr>\n    <tr>\n      <th>4</th>\n      <td>Bihar</td>\n      <td>MULTIPOLYGON (((88.10548 26.53904, 88.10505 26...</td>\n      <td>20.833333</td>\n    </tr>\n    <tr>\n      <th>5</th>\n      <td>Chandigarh</td>\n      <td>POLYGON ((76.81981 30.68583, 76.81051 30.68495...</td>\n      <td>NaN</td>\n    </tr>\n  </tbody>\n</table>\n</div>"
     },
     "execution_count": 53,
     "metadata": {},
     "output_type": "execute_result"
    }
   ],
   "source": [
    "f.head()"
   ],
   "metadata": {
    "collapsed": false,
    "ExecuteTime": {
     "end_time": "2024-01-07T21:11:45.125414098Z",
     "start_time": "2024-01-07T21:11:44.796679578Z"
    }
   },
   "id": "d0e9dbec58970985"
  },
  {
   "cell_type": "code",
   "execution_count": 8,
   "id": "9e191339f3a4c57e",
   "metadata": {
    "collapsed": false,
    "ExecuteTime": {
     "end_time": "2024-01-07T20:05:31.005000119Z",
     "start_time": "2024-01-07T20:05:30.269673990Z"
    }
   },
   "outputs": [
    {
     "data": {
      "text/plain": "<Figure size 640x480 with 1 Axes>",
      "image/png": "[encoded data removed]"
     },
     "metadata": {},
     "output_type": "display_data"
    }
   ],
   "source": [
    "import matplotlib.pyplot as plt\n",
    "import numpy as np\n",
    "\n",
    "fig, ax = plt.subplots(1,1)\n",
    "\n",
    "xvals = list('ABCDE')\n",
    "yvals = np.array(['aasdf', 'basdfasdf', 'casfdasdf', 'dasdf', 'e'])\n",
    "position = np.arange(len(xvals))\n",
    "\n",
    "mybars = plt.barh(position, yvals, align='center', linewidth=0)\n",
    "\n",
    "\n",
    "plt.grid(color='grey', linewidth=1, axis='x', alpha=0.3)\n",
    "\n",
    "for i, bar in enumerate(mybars):\n",
    "    yval = yvals[i]\n",
    "    ax.text(0, bar.get_y() + bar.get_height() / 2, f\"{yval}\", va='center', fontsize=12)\n",
    "\n",
    "\n",
    "\n",
    "\n",
    "\n",
    "plt.show()"
   ]
  },
  {
   "cell_type": "code",
   "execution_count": 9,
   "id": "5e94357b4826f2ed",
   "metadata": {
    "collapsed": false,
    "ExecuteTime": {
     "end_time": "2024-01-07T20:05:31.342068744Z",
     "start_time": "2024-01-07T20:05:31.000237895Z"
    }
   },
   "outputs": [
    {
     "name": "stderr",
     "output_type": "stream",
     "text": [
      "/tmp/ipykernel_4319/921022543.py:7: MatplotlibDeprecationWarning: The get_cmap function was deprecated in Matplotlib 3.7 and will be removed two minor releases later. Use ``matplotlib.colormaps[name]`` or ``matplotlib.colormaps.get_cmap(obj)`` instead.\n",
      "  cmap = plt.cm.get_cmap('coolwarm')  # Use plt.cm.get_cmap\n"
     ]
    },
    {
     "data": {
      "text/plain": "<Figure size 640x480 with 1 Axes>",
      "image/png": "[encoded data removed]"
     },
     "metadata": {},
     "output_type": "display_data"
    }
   ],
   "source": [
    "import matplotlib.pyplot as plt\n",
    "\n",
    "lst = [20, 30, 50]\n",
    "id = ['Country', 'State', 'City']\n",
    "\n",
    "# Access the coolwarm colormap using the correct attribute\n",
    "cmap = plt.cm.get_cmap('coolwarm')  # Use plt.cm.get_cmap\n",
    "\n",
    "# Create the bar chart with a gradient colormap\n",
    "plt.bar(id, lst, color=cmap(lst))\n",
    "\n",
    "# Customize the chart (same as before)\n",
    "plt.xlabel(\"Location Level\")\n",
    "plt.ylabel(\"Value\")\n",
    "plt.title(\"Beautiful Gradient Bar Chart\")\n",
    "plt.xticks(rotation=45, ha='right')\n",
    "plt.grid(axis='y', linestyle='--', alpha=0.7)\n",
    "plt.tight_layout()\n",
    "\n",
    "# Show the chart\n",
    "plt.show()\n"
   ]
  },
  {
   "cell_type": "code",
   "execution_count": 10,
   "id": "bc80095c98e8b2c9",
   "metadata": {
    "collapsed": false,
    "ExecuteTime": {
     "end_time": "2024-01-07T20:05:32.057712066Z",
     "start_time": "2024-01-07T20:05:32.049391390Z"
    }
   },
   "outputs": [],
   "source": [
    "\n",
    "file = 'dataset/india.json'"
   ]
  },
  {
   "cell_type": "code",
   "execution_count": 11,
   "id": "56be2aac9566d0c4",
   "metadata": {
    "collapsed": false,
    "ExecuteTime": {
     "end_time": "2024-01-07T20:05:37.590077190Z",
     "start_time": "2024-01-07T20:05:34.988263563Z"
    }
   },
   "outputs": [],
   "source": [
    "import geopandas\n",
    "f = geopandas.read_file(file)"
   ]
  },
  {
   "cell_type": "code",
   "execution_count": 12,
   "outputs": [
    {
     "data": {
      "text/plain": "  id               NAME_1                                           geometry\n0  0  Andaman and Nicobar  MULTIPOLYGON (((93.78773 6.85264, 93.78849 6.8...\n1  1       Andhra Pradesh  MULTIPOLYGON (((80.27458 13.45958, 80.27458 13...\n2  2    Arunachal Pradesh  POLYGON ((96.15778 29.38310, 96.16380 29.37668...\n3  3                Assam  MULTIPOLYGON (((89.87145 25.53730, 89.87118 25...\n4  4                Bihar  MULTIPOLYGON (((88.10548 26.53904, 88.10505 26...",
      "text/html": "<div>\n<style scoped>\n    .dataframe tbody tr th:only-of-type {\n        vertical-align: middle;\n    }\n\n    .dataframe tbody tr th {\n        vertical-align: top;\n    }\n\n    .dataframe thead th {\n        text-align: right;\n    }\n</style>\n<table border=\"1\" class=\"dataframe\">\n  <thead>\n    <tr style=\"text-align: right;\">\n      <th></th>\n      <th>id</th>\n      <th>NAME_1</th>\n      <th>geometry</th>\n    </tr>\n  </thead>\n  <tbody>\n    <tr>\n      <th>0</th>\n      <td>0</td>\n      <td>Andaman and Nicobar</td>\n      <td>MULTIPOLYGON (((93.78773 6.85264, 93.78849 6.8...</td>\n    </tr>\n    <tr>\n      <th>1</th>\n      <td>1</td>\n      <td>Andhra Pradesh</td>\n      <td>MULTIPOLYGON (((80.27458 13.45958, 80.27458 13...</td>\n    </tr>\n    <tr>\n      <th>2</th>\n      <td>2</td>\n      <td>Arunachal Pradesh</td>\n      <td>POLYGON ((96.15778 29.38310, 96.16380 29.37668...</td>\n    </tr>\n    <tr>\n      <th>3</th>\n      <td>3</td>\n      <td>Assam</td>\n      <td>MULTIPOLYGON (((89.87145 25.53730, 89.87118 25...</td>\n    </tr>\n    <tr>\n      <th>4</th>\n      <td>4</td>\n      <td>Bihar</td>\n      <td>MULTIPOLYGON (((88.10548 26.53904, 88.10505 26...</td>\n    </tr>\n  </tbody>\n</table>\n</div>"
     },
     "execution_count": 12,
     "metadata": {},
     "output_type": "execute_result"
    }
   ],
   "source": [
    "f.head()"
   ],
   "metadata": {
    "collapsed": false,
    "ExecuteTime": {
     "end_time": "2024-01-07T20:05:38.230389046Z",
     "start_time": "2024-01-07T20:05:37.589396856Z"
    }
   },
   "id": "eb3c4598b82f9b9b"
  },
  {
   "cell_type": "code",
   "execution_count": 13,
   "outputs": [],
   "source": [
    "# f.drop(['ID_0', 'ISO', 'NAME_0', 'ID_1', 'NL_NAME_1', 'VARNAME_1',\n",
    "#        'TYPE_1', 'ENGTYPE_1', 'filename', 'filename_1', 'filename_2',\n",
    "#        'filename_3', 'filename_4', ], inplace=True, axis=1)"
   ],
   "metadata": {
    "collapsed": false,
    "ExecuteTime": {
     "end_time": "2024-01-07T19:51:08.136134969Z",
     "start_time": "2024-01-07T19:51:07.964161549Z"
    }
   },
   "id": "c5f4d22a5ea72810"
  },
  {
   "cell_type": "code",
   "execution_count": 13,
   "outputs": [],
   "source": [
    "f.drop('id', inplace=True, axis=1)"
   ],
   "metadata": {
    "collapsed": false,
    "ExecuteTime": {
     "end_time": "2024-01-07T20:05:47.568206110Z",
     "start_time": "2024-01-07T20:05:47.536791531Z"
    }
   },
   "id": "6ee160876f8aecaf"
  },
  {
   "cell_type": "code",
   "execution_count": 18,
   "outputs": [],
   "source": [
    "f.drop(0, inplace=True)"
   ],
   "metadata": {
    "collapsed": false,
    "ExecuteTime": {
     "end_time": "2024-01-07T20:07:09.713048243Z",
     "start_time": "2024-01-07T20:07:09.683380561Z"
    }
   },
   "id": "4aceb4cfa9c37892"
  },
  {
   "cell_type": "code",
   "execution_count": 39,
   "outputs": [
    {
     "data": {
      "text/plain": "            NAME_1                                           geometry\n1   Andhra Pradesh  MULTIPOLYGON (((80.27458 13.45958, 80.27458 13...\n4            Bihar  MULTIPOLYGON (((88.10548 26.53904, 88.10505 26...\n6     Chhattisgarh  POLYGON ((83.32760 24.09965, 83.34575 24.09707...\n9            Delhi  POLYGON ((77.21732 28.83528, 77.21365 28.81350...\n11         Gujarat  MULTIPOLYGON (((70.86097 20.75292, 70.86097 20...\n12         Haryana  POLYGON ((76.83715 30.87887, 76.85243 30.87069...\n15       Jharkhand  POLYGON ((87.59989 25.31466, 87.60688 25.31138...\n16       Karnataka  MULTIPOLYGON (((74.67097 13.19986, 74.67097 13...\n17          Kerala  MULTIPOLYGON (((76.46736 9.54097, 76.46736 9.5...\n19  Madhya Pradesh  POLYGON ((78.36465 26.86884, 78.36688 26.86259...",
      "text/html": "<div>\n<style scoped>\n    .dataframe tbody tr th:only-of-type {\n        vertical-align: middle;\n    }\n\n    .dataframe tbody tr th {\n        vertical-align: top;\n    }\n\n    .dataframe thead th {\n        text-align: right;\n    }\n</style>\n<table border=\"1\" class=\"dataframe\">\n  <thead>\n    <tr style=\"text-align: right;\">\n      <th></th>\n      <th>NAME_1</th>\n      <th>geometry</th>\n    </tr>\n  </thead>\n  <tbody>\n    <tr>\n      <th>1</th>\n      <td>Andhra Pradesh</td>\n      <td>MULTIPOLYGON (((80.27458 13.45958, 80.27458 13...</td>\n    </tr>\n    <tr>\n      <th>4</th>\n      <td>Bihar</td>\n      <td>MULTIPOLYGON (((88.10548 26.53904, 88.10505 26...</td>\n    </tr>\n    <tr>\n      <th>6</th>\n      <td>Chhattisgarh</td>\n      <td>POLYGON ((83.32760 24.09965, 83.34575 24.09707...</td>\n    </tr>\n    <tr>\n      <th>9</th>\n      <td>Delhi</td>\n      <td>POLYGON ((77.21732 28.83528, 77.21365 28.81350...</td>\n    </tr>\n    <tr>\n      <th>11</th>\n      <td>Gujarat</td>\n      <td>MULTIPOLYGON (((70.86097 20.75292, 70.86097 20...</td>\n    </tr>\n    <tr>\n      <th>12</th>\n      <td>Haryana</td>\n      <td>POLYGON ((76.83715 30.87887, 76.85243 30.87069...</td>\n    </tr>\n    <tr>\n      <th>15</th>\n      <td>Jharkhand</td>\n      <td>POLYGON ((87.59989 25.31466, 87.60688 25.31138...</td>\n    </tr>\n    <tr>\n      <th>16</th>\n      <td>Karnataka</td>\n      <td>MULTIPOLYGON (((74.67097 13.19986, 74.67097 13...</td>\n    </tr>\n    <tr>\n      <th>17</th>\n      <td>Kerala</td>\n      <td>MULTIPOLYGON (((76.46736 9.54097, 76.46736 9.5...</td>\n    </tr>\n    <tr>\n      <th>19</th>\n      <td>Madhya Pradesh</td>\n      <td>POLYGON ((78.36465 26.86884, 78.36688 26.86259...</td>\n    </tr>\n  </tbody>\n</table>\n</div>"
     },
     "execution_count": 39,
     "metadata": {},
     "output_type": "execute_result"
    }
   ],
   "source": [
    "list = ['Andhra Pradesh','Bihar','Chhattisgarh','Delhi','Gujarat','Haryana','Jharkhand','Karnataka','Kerala','Madhya Pradesh']\n"
   ],
   "metadata": {
    "collapsed": false,
    "ExecuteTime": {
     "end_time": "2024-01-07T20:20:41.553354943Z",
     "start_time": "2024-01-07T20:20:40.172772470Z"
    }
   },
   "id": "67e2bfef3d87ba8a"
  },
  {
   "cell_type": "code",
   "execution_count": 19,
   "outputs": [],
   "source": [
    "ff = open(file, 'w')\n",
    "ff.write(f.to_json())\n",
    "ff.close()"
   ],
   "metadata": {
    "collapsed": false,
    "ExecuteTime": {
     "end_time": "2024-01-07T20:07:13.195923883Z",
     "start_time": "2024-01-07T20:07:12.211558357Z"
    }
   },
   "id": "8e4760334dcfc351"
  },
  {
   "cell_type": "code",
   "execution_count": 22,
   "outputs": [
    {
     "data": {
      "text/plain": "'asdf asdf'"
     },
     "execution_count": 22,
     "metadata": {},
     "output_type": "execute_result"
    }
   ],
   "source": [
    "\" \".join(\" \".join(\"asdf asdf\".split(\"_\")).split(\" \"))"
   ],
   "metadata": {
    "collapsed": false,
    "ExecuteTime": {
     "end_time": "2024-01-07T20:10:36.617995087Z",
     "start_time": "2024-01-07T20:10:36.578083945Z"
    }
   },
   "id": "dbb81712ff8bab03"
  },
  {
   "cell_type": "code",
   "execution_count": null,
   "outputs": [],
   "source": [],
   "metadata": {
    "collapsed": false
   },
   "id": "44ba992250db5edd"
  }
 ],
 "metadata": {
  "kernelspec": {
   "display_name": "Python 3 (ipykernel)",
   "language": "python",
   "name": "python3"
  },
  "language_info": {
   "codemirror_mode": {
    "name": "ipython",
    "version": 3
   },
   "file_extension": ".py",
   "mimetype": "text/x-python",
   "name": "python",
   "nbconvert_exporter": "python",
   "pygments_lexer": "ipython3",
   "version": "3.11.0rc1"
  }
 },
 "nbformat": 4,
 "nbformat_minor": 5
}
