{
 "cells": [
  {
   "cell_type": "code",
   "execution_count": 109,
   "id": "initial_id",
   "metadata": {
    "ExecuteTime": {
     "end_time": "2024-01-10T14:04:29.645718688Z",
     "start_time": "2024-01-10T14:04:29.602038925Z"
    }
   },
   "outputs": [],
   "source": [
    "import numpy as np\n",
    "import pandas as pd\n"
   ]
  },
  {
   "cell_type": "code",
   "execution_count": 110,
   "id": "d9802202311b84e6",
   "metadata": {
    "collapsed": false,
    "ExecuteTime": {
     "end_time": "2024-01-10T14:04:32.330134639Z",
     "start_time": "2024-01-10T14:04:32.325190396Z"
    }
   },
   "outputs": [],
   "source": [
    "df = pd.read_csv('dataset/live_data.csv')"
   ]
  },
  {
   "cell_type": "code",
   "execution_count": 111,
   "id": "aa71c3be0baf9991",
   "metadata": {
    "collapsed": false,
    "ExecuteTime": {
     "end_time": "2024-01-10T14:04:32.353422273Z",
     "start_time": "2024-01-10T14:04:32.325473397Z"
    }
   },
   "outputs": [
    {
     "data": {
      "text/plain": "  country           state       city                              station  \\\n0   India  Andhra_Pradesh  Anantapur         Gulzarpet, Anantapur - APPCB   \n1   India  Andhra_Pradesh  Anantapur         Gulzarpet, Anantapur - APPCB   \n2   India  Andhra_Pradesh   Chittoor  Gangineni Cheruvu, Chittoor - APPCB   \n3   India  Andhra_Pradesh   Chittoor  Gangineni Cheruvu, Chittoor - APPCB   \n4   India  Andhra_Pradesh     Kadapa      Yerramukkapalli, Kadapa - APPCB   \n\n           last_update   latitude  longitude pollutant_id  pollutant_min  \\\n0  07-01-2024 09:00:00  14.675886  77.593027          SO2            4.0   \n1  07-01-2024 09:00:00  14.675886  77.593027        OZONE           17.0   \n2  07-01-2024 09:00:00  13.204880  79.097889          SO2            7.0   \n3  07-01-2024 09:00:00  13.204880  79.097889           CO            2.0   \n4  07-01-2024 09:00:00  14.465052  78.824187          NH3            NaN   \n\n   pollutant_max  pollutant_avg  \n0            7.0            5.0  \n1           39.0           22.0  \n2           41.0           14.0  \n3           20.0            8.0  \n4            NaN            NaN  ",
      "text/html": "<div>\n<style scoped>\n    .dataframe tbody tr th:only-of-type {\n        vertical-align: middle;\n    }\n\n    .dataframe tbody tr th {\n        vertical-align: top;\n    }\n\n    .dataframe thead th {\n        text-align: right;\n    }\n</style>\n<table border=\"1\" class=\"dataframe\">\n  <thead>\n    <tr style=\"text-align: right;\">\n      <th></th>\n      <th>country</th>\n      <th>state</th>\n      <th>city</th>\n      <th>station</th>\n      <th>last_update</th>\n      <th>latitude</th>\n      <th>longitude</th>\n      <th>pollutant_id</th>\n      <th>pollutant_min</th>\n      <th>pollutant_max</th>\n      <th>pollutant_avg</th>\n    </tr>\n  </thead>\n  <tbody>\n    <tr>\n      <th>0</th>\n      <td>India</td>\n      <td>Andhra_Pradesh</td>\n      <td>Anantapur</td>\n      <td>Gulzarpet, Anantapur - APPCB</td>\n      <td>07-01-2024 09:00:00</td>\n      <td>14.675886</td>\n      <td>77.593027</td>\n      <td>SO2</td>\n      <td>4.0</td>\n      <td>7.0</td>\n      <td>5.0</td>\n    </tr>\n    <tr>\n      <th>1</th>\n      <td>India</td>\n      <td>Andhra_Pradesh</td>\n      <td>Anantapur</td>\n      <td>Gulzarpet, Anantapur - APPCB</td>\n      <td>07-01-2024 09:00:00</td>\n      <td>14.675886</td>\n      <td>77.593027</td>\n      <td>OZONE</td>\n      <td>17.0</td>\n      <td>39.0</td>\n      <td>22.0</td>\n    </tr>\n    <tr>\n      <th>2</th>\n      <td>India</td>\n      <td>Andhra_Pradesh</td>\n      <td>Chittoor</td>\n      <td>Gangineni Cheruvu, Chittoor - APPCB</td>\n      <td>07-01-2024 09:00:00</td>\n      <td>13.204880</td>\n      <td>79.097889</td>\n      <td>SO2</td>\n      <td>7.0</td>\n      <td>41.0</td>\n      <td>14.0</td>\n    </tr>\n    <tr>\n      <th>3</th>\n      <td>India</td>\n      <td>Andhra_Pradesh</td>\n      <td>Chittoor</td>\n      <td>Gangineni Cheruvu, Chittoor - APPCB</td>\n      <td>07-01-2024 09:00:00</td>\n      <td>13.204880</td>\n      <td>79.097889</td>\n      <td>CO</td>\n      <td>2.0</td>\n      <td>20.0</td>\n      <td>8.0</td>\n    </tr>\n    <tr>\n      <th>4</th>\n      <td>India</td>\n      <td>Andhra_Pradesh</td>\n      <td>Kadapa</td>\n      <td>Yerramukkapalli, Kadapa - APPCB</td>\n      <td>07-01-2024 09:00:00</td>\n      <td>14.465052</td>\n      <td>78.824187</td>\n      <td>NH3</td>\n      <td>NaN</td>\n      <td>NaN</td>\n      <td>NaN</td>\n    </tr>\n  </tbody>\n</table>\n</div>"
     },
     "execution_count": 111,
     "metadata": {},
     "output_type": "execute_result"
    }
   ],
   "source": [
    "df.head()"
   ]
  },
  {
   "cell_type": "code",
   "execution_count": 112,
   "id": "319e032b7911d4c6",
   "metadata": {
    "collapsed": false,
    "ExecuteTime": {
     "end_time": "2024-01-10T14:04:32.359526779Z",
     "start_time": "2024-01-10T14:04:32.326317179Z"
    }
   },
   "outputs": [],
   "source": [
    "df.dropna(inplace=True)"
   ]
  },
  {
   "cell_type": "code",
   "execution_count": 113,
   "id": "cea5d119da1e7fe0",
   "metadata": {
    "collapsed": false,
    "ExecuteTime": {
     "end_time": "2024-01-10T14:04:32.359848650Z",
     "start_time": "2024-01-10T14:04:32.332366335Z"
    }
   },
   "outputs": [],
   "source": [
    "df.drop_duplicates(inplace=True)\n",
    "# \n",
    "# df['country_avg'] = \n",
    "\n"
   ]
  },
  {
   "cell_type": "code",
   "execution_count": 114,
   "id": "232c080488742910",
   "metadata": {
    "collapsed": false,
    "ExecuteTime": {
     "end_time": "2024-01-10T14:04:32.419519067Z",
     "start_time": "2024-01-10T14:04:32.340829888Z"
    }
   },
   "outputs": [],
   "source": [
    "dd = df.groupby(['state','pollutant_id'])['pollutant_avg'].mean()"
   ]
  },
  {
   "cell_type": "code",
   "execution_count": 114,
   "id": "ff360b466ce6419e",
   "metadata": {
    "collapsed": false,
    "ExecuteTime": {
     "end_time": "2024-01-10T14:04:32.419800762Z",
     "start_time": "2024-01-10T14:04:32.381520546Z"
    }
   },
   "outputs": [],
   "source": []
  },
  {
   "cell_type": "code",
   "execution_count": 115,
   "id": "876dc48eb7a68a8d",
   "metadata": {
    "collapsed": false,
    "ExecuteTime": {
     "end_time": "2024-01-10T14:04:32.420014258Z",
     "start_time": "2024-01-10T14:04:32.381749735Z"
    }
   },
   "outputs": [],
   "source": [
    "country_avg = df.groupby('pollutant_id')['pollutant_avg'].mean()\n",
    "state_avg = df.groupby(['state','pollutant_id'])['pollutant_avg'].mean()\n",
    "\n"
   ]
  },
  {
   "cell_type": "code",
   "execution_count": 116,
   "outputs": [],
   "source": [
    "filtered_state = state_avg.xs('SO2', level='pollutant_id')"
   ],
   "metadata": {
    "collapsed": false,
    "ExecuteTime": {
     "end_time": "2024-01-10T14:04:32.420192980Z",
     "start_time": "2024-01-10T14:04:32.381929603Z"
    }
   },
   "id": "2a8459367f58896d"
  },
  {
   "cell_type": "code",
   "execution_count": 117,
   "id": "71bf85944521d4fe",
   "metadata": {
    "collapsed": false,
    "ExecuteTime": {
     "end_time": "2024-01-10T14:04:32.420353933Z",
     "start_time": "2024-01-10T14:04:32.382075088Z"
    }
   },
   "outputs": [],
   "source": [
    "dd = filtered_state.to_dict()"
   ]
  },
  {
   "cell_type": "code",
   "execution_count": 118,
   "outputs": [],
   "source": [
    "f['avg'] = f['NAME_1'].map(dd)"
   ],
   "metadata": {
    "collapsed": false,
    "ExecuteTime": {
     "end_time": "2024-01-10T14:04:34.778408070Z",
     "start_time": "2024-01-10T14:04:34.774895979Z"
    }
   },
   "id": "f0cecbd6ee1153e1"
  },
  {
   "cell_type": "code",
   "execution_count": 119,
   "outputs": [
    {
     "data": {
      "text/plain": "              NAME_1                                           geometry  \\\n0     Andhra Pradesh  MULTIPOLYGON (((80.27458 13.45958, 80.27458 13...   \n1  Arunachal Pradesh  POLYGON ((96.15778 29.38310, 96.16380 29.37668...   \n2              Assam  MULTIPOLYGON (((89.87145 25.53730, 89.87118 25...   \n3              Bihar  MULTIPOLYGON (((88.10548 26.53904, 88.10505 26...   \n4         Chandigarh  POLYGON ((76.81981 30.68583, 76.81051 30.68495...   \n\n         avg  \n0        NaN  \n1        NaN  \n2        NaN  \n3  20.833333  \n4        NaN  ",
      "text/html": "<div>\n<style scoped>\n    .dataframe tbody tr th:only-of-type {\n        vertical-align: middle;\n    }\n\n    .dataframe tbody tr th {\n        vertical-align: top;\n    }\n\n    .dataframe thead th {\n        text-align: right;\n    }\n</style>\n<table border=\"1\" class=\"dataframe\">\n  <thead>\n    <tr style=\"text-align: right;\">\n      <th></th>\n      <th>NAME_1</th>\n      <th>geometry</th>\n      <th>avg</th>\n    </tr>\n  </thead>\n  <tbody>\n    <tr>\n      <th>0</th>\n      <td>Andhra Pradesh</td>\n      <td>MULTIPOLYGON (((80.27458 13.45958, 80.27458 13...</td>\n      <td>NaN</td>\n    </tr>\n    <tr>\n      <th>1</th>\n      <td>Arunachal Pradesh</td>\n      <td>POLYGON ((96.15778 29.38310, 96.16380 29.37668...</td>\n      <td>NaN</td>\n    </tr>\n    <tr>\n      <th>2</th>\n      <td>Assam</td>\n      <td>MULTIPOLYGON (((89.87145 25.53730, 89.87118 25...</td>\n      <td>NaN</td>\n    </tr>\n    <tr>\n      <th>3</th>\n      <td>Bihar</td>\n      <td>MULTIPOLYGON (((88.10548 26.53904, 88.10505 26...</td>\n      <td>20.833333</td>\n    </tr>\n    <tr>\n      <th>4</th>\n      <td>Chandigarh</td>\n      <td>POLYGON ((76.81981 30.68583, 76.81051 30.68495...</td>\n      <td>NaN</td>\n    </tr>\n  </tbody>\n</table>\n</div>"
     },
     "execution_count": 119,
     "metadata": {},
     "output_type": "execute_result"
    }
   ],
   "source": [
    "f.head()"
   ],
   "metadata": {
    "collapsed": false,
    "ExecuteTime": {
     "end_time": "2024-01-10T14:04:37.065701820Z",
     "start_time": "2024-01-10T14:04:36.834014119Z"
    }
   },
   "id": "d0e9dbec58970985"
  },
  {
   "cell_type": "code",
   "execution_count": 120,
   "id": "9e191339f3a4c57e",
   "metadata": {
    "collapsed": false,
    "ExecuteTime": {
     "end_time": "2024-01-10T14:04:40.239986972Z",
     "start_time": "2024-01-10T14:04:40.044968631Z"
    }
   },
   "outputs": [
    {
     "ename": "TypeError",
     "evalue": "'list' object is not callable",
     "output_type": "error",
     "traceback": [
      "\u001B[0;31m---------------------------------------------------------------------------\u001B[0m",
      "\u001B[0;31mTypeError\u001B[0m                                 Traceback (most recent call last)",
      "Cell \u001B[0;32mIn[120], line 6\u001B[0m\n\u001B[1;32m      2\u001B[0m \u001B[38;5;28;01mimport\u001B[39;00m \u001B[38;5;21;01mnumpy\u001B[39;00m \u001B[38;5;28;01mas\u001B[39;00m \u001B[38;5;21;01mnp\u001B[39;00m\n\u001B[1;32m      4\u001B[0m fig, ax \u001B[38;5;241m=\u001B[39m plt\u001B[38;5;241m.\u001B[39msubplots(\u001B[38;5;241m1\u001B[39m,\u001B[38;5;241m1\u001B[39m)\n\u001B[0;32m----> 6\u001B[0m xvals \u001B[38;5;241m=\u001B[39m \u001B[38;5;28;43mlist\u001B[39;49m\u001B[43m(\u001B[49m\u001B[38;5;124;43m'\u001B[39;49m\u001B[38;5;124;43mABCDE\u001B[39;49m\u001B[38;5;124;43m'\u001B[39;49m\u001B[43m)\u001B[49m\n\u001B[1;32m      7\u001B[0m yvals \u001B[38;5;241m=\u001B[39m np\u001B[38;5;241m.\u001B[39marray([\u001B[38;5;124m'\u001B[39m\u001B[38;5;124maasdf\u001B[39m\u001B[38;5;124m'\u001B[39m, \u001B[38;5;124m'\u001B[39m\u001B[38;5;124mbasdfasdf\u001B[39m\u001B[38;5;124m'\u001B[39m, \u001B[38;5;124m'\u001B[39m\u001B[38;5;124mcasfdasdf\u001B[39m\u001B[38;5;124m'\u001B[39m, \u001B[38;5;124m'\u001B[39m\u001B[38;5;124mdasdf\u001B[39m\u001B[38;5;124m'\u001B[39m, \u001B[38;5;124m'\u001B[39m\u001B[38;5;124me\u001B[39m\u001B[38;5;124m'\u001B[39m])\n\u001B[1;32m      8\u001B[0m position \u001B[38;5;241m=\u001B[39m np\u001B[38;5;241m.\u001B[39marange(\u001B[38;5;28mlen\u001B[39m(xvals))\n",
      "\u001B[0;31mTypeError\u001B[0m: 'list' object is not callable"
     ]
    },
    {
     "data": {
      "text/plain": "<Figure size 640x480 with 1 Axes>",
      "image/png": "[encoded data removed]"
     },
     "metadata": {},
     "output_type": "display_data"
    }
   ],
   "source": [
    "import matplotlib.pyplot as plt\n",
    "import numpy as np\n",
    "\n",
    "fig, ax = plt.subplots(1,1)\n",
    "\n",
    "xvals = list('ABCDE')\n",
    "yvals = np.array(['aasdf', 'basdfasdf', 'casfdasdf', 'dasdf', 'e'])\n",
    "position = np.arange(len(xvals))\n",
    "\n",
    "mybars = plt.barh(position, yvals, align='center', linewidth=0)\n",
    "\n",
    "\n",
    "plt.grid(color='grey', linewidth=1, axis='x', alpha=0.3)\n",
    "\n",
    "for i, bar in enumerate(mybars):\n",
    "    yval = yvals[i]\n",
    "    ax.text(0, bar.get_y() + bar.get_height() / 2, f\"{yval}\", va='center', fontsize=12)\n",
    "\n",
    "\n",
    "\n",
    "\n",
    "\n",
    "plt.show()"
   ]
  },
  {
   "cell_type": "code",
   "execution_count": null,
   "id": "5e94357b4826f2ed",
   "metadata": {
    "collapsed": false,
    "ExecuteTime": {
     "start_time": "2024-01-10T14:04:40.243374370Z"
    }
   },
   "outputs": [],
   "source": [
    "import matplotlib.pyplot as plt\n",
    "\n",
    "lst = [20, 30, 50]\n",
    "id = ['Country', 'State', 'City']\n",
    "\n",
    "# Access the coolwarm colormap using the correct attribute\n",
    "cmap = plt.cm.get_cmap('coolwarm')  # Use plt.cm.get_cmap\n",
    "\n",
    "# Create the bar chart with a gradient colormap\n",
    "plt.bar(id, lst, color=cmap(lst))\n",
    "\n",
    "# Customize the chart (same as before)\n",
    "plt.xlabel(\"Location Level\")\n",
    "plt.ylabel(\"Value\")\n",
    "plt.title(\"Beautiful Gradient Bar Chart\")\n",
    "plt.xticks(rotation=45, ha='right')\n",
    "plt.grid(axis='y', linestyle='--', alpha=0.7)\n",
    "plt.tight_layout()\n",
    "\n",
    "# Show the chart\n",
    "plt.show()\n"
   ]
  },
  {
   "cell_type": "code",
   "execution_count": null,
   "id": "bc80095c98e8b2c9",
   "metadata": {
    "collapsed": false,
    "ExecuteTime": {
     "end_time": "2024-01-10T14:04:40.321933374Z",
     "start_time": "2024-01-10T14:04:40.285580409Z"
    }
   },
   "outputs": [],
   "source": [
    "\n",
    "file = 'dataset/india.json'"
   ]
  },
  {
   "cell_type": "code",
   "execution_count": null,
   "id": "56be2aac9566d0c4",
   "metadata": {
    "collapsed": false,
    "ExecuteTime": {
     "start_time": "2024-01-10T14:04:40.285721275Z"
    }
   },
   "outputs": [],
   "source": [
    "import geopandas\n",
    "f = geopandas.read_file(file)"
   ]
  },
  {
   "cell_type": "code",
   "execution_count": 121,
   "outputs": [
    {
     "data": {
      "text/plain": "              NAME_1                                           geometry  \\\n0     Andhra Pradesh  MULTIPOLYGON (((80.27458 13.45958, 80.27458 13...   \n1  Arunachal Pradesh  POLYGON ((96.15778 29.38310, 96.16380 29.37668...   \n2              Assam  MULTIPOLYGON (((89.87145 25.53730, 89.87118 25...   \n3              Bihar  MULTIPOLYGON (((88.10548 26.53904, 88.10505 26...   \n4         Chandigarh  POLYGON ((76.81981 30.68583, 76.81051 30.68495...   \n\n         avg  \n0        NaN  \n1        NaN  \n2        NaN  \n3  20.833333  \n4        NaN  ",
      "text/html": "<div>\n<style scoped>\n    .dataframe tbody tr th:only-of-type {\n        vertical-align: middle;\n    }\n\n    .dataframe tbody tr th {\n        vertical-align: top;\n    }\n\n    .dataframe thead th {\n        text-align: right;\n    }\n</style>\n<table border=\"1\" class=\"dataframe\">\n  <thead>\n    <tr style=\"text-align: right;\">\n      <th></th>\n      <th>NAME_1</th>\n      <th>geometry</th>\n      <th>avg</th>\n    </tr>\n  </thead>\n  <tbody>\n    <tr>\n      <th>0</th>\n      <td>Andhra Pradesh</td>\n      <td>MULTIPOLYGON (((80.27458 13.45958, 80.27458 13...</td>\n      <td>NaN</td>\n    </tr>\n    <tr>\n      <th>1</th>\n      <td>Arunachal Pradesh</td>\n      <td>POLYGON ((96.15778 29.38310, 96.16380 29.37668...</td>\n      <td>NaN</td>\n    </tr>\n    <tr>\n      <th>2</th>\n      <td>Assam</td>\n      <td>MULTIPOLYGON (((89.87145 25.53730, 89.87118 25...</td>\n      <td>NaN</td>\n    </tr>\n    <tr>\n      <th>3</th>\n      <td>Bihar</td>\n      <td>MULTIPOLYGON (((88.10548 26.53904, 88.10505 26...</td>\n      <td>20.833333</td>\n    </tr>\n    <tr>\n      <th>4</th>\n      <td>Chandigarh</td>\n      <td>POLYGON ((76.81981 30.68583, 76.81051 30.68495...</td>\n      <td>NaN</td>\n    </tr>\n  </tbody>\n</table>\n</div>"
     },
     "execution_count": 121,
     "metadata": {},
     "output_type": "execute_result"
    }
   ],
   "source": [
    "f.head()"
   ],
   "metadata": {
    "collapsed": false,
    "ExecuteTime": {
     "end_time": "2024-01-10T14:04:42.939473060Z",
     "start_time": "2024-01-10T14:04:42.799853584Z"
    }
   },
   "id": "eb3c4598b82f9b9b"
  },
  {
   "cell_type": "code",
   "execution_count": 122,
   "outputs": [
    {
     "name": "stdout",
     "output_type": "stream",
     "text": [
      "['Andhra Pradesh' 'Arunachal Pradesh' 'Assam' 'Bihar' 'Chandigarh'\n",
      " 'Chhattisgarh' 'Dadra and Nagar Haveli' 'Daman and Diu' 'Delhi' 'Goa'\n",
      " 'Gujarat' 'Haryana' 'Himachal Pradesh' 'Jammu and Kashmir' 'Jharkhand'\n",
      " 'Karnataka' 'Kerala' 'Lakshadweep' 'Madhya Pradesh' 'Maharashtra'\n",
      " 'Manipur' 'Meghalaya' 'Mizoram' 'Nagaland' 'Orissa' 'Puducherry' 'Punjab'\n",
      " 'Rajasthan' 'Sikkim' 'Tamil Nadu' 'Tripura' 'Uttar Pradesh' 'Uttaranchal'\n",
      " 'West Bengal']\n"
     ]
    }
   ],
   "source": [
    "print(f.get('NAME_1').values)"
   ],
   "metadata": {
    "collapsed": false,
    "ExecuteTime": {
     "end_time": "2024-01-10T14:04:43.013995537Z",
     "start_time": "2024-01-10T14:04:42.927564865Z"
    }
   },
   "id": "10ccf2079261f794"
  },
  {
   "cell_type": "code",
   "execution_count": 93,
   "outputs": [],
   "source": [
    "# f.drop(['ID_0', 'ISO', 'NAME_0', 'ID_1', 'NL_NAME_1', 'VARNAME_1',\n",
    "#        'TYPE_1', 'ENGTYPE_1', 'filename', 'filename_1', 'filename_2',\n",
    "#        'filename_3', 'filename_4', ], inplace=True, axis=1)"
   ],
   "metadata": {
    "collapsed": false,
    "ExecuteTime": {
     "end_time": "2024-01-10T13:55:51.886988030Z",
     "start_time": "2024-01-10T13:55:51.872329420Z"
    }
   },
   "id": "c5f4d22a5ea72810"
  },
  {
   "cell_type": "code",
   "execution_count": 123,
   "outputs": [
    {
     "ename": "KeyError",
     "evalue": "\"['id'] not found in axis\"",
     "output_type": "error",
     "traceback": [
      "\u001B[0;31m---------------------------------------------------------------------------\u001B[0m",
      "\u001B[0;31mKeyError\u001B[0m                                  Traceback (most recent call last)",
      "Cell \u001B[0;32mIn[123], line 1\u001B[0m\n\u001B[0;32m----> 1\u001B[0m \u001B[43mf\u001B[49m\u001B[38;5;241;43m.\u001B[39;49m\u001B[43mdrop\u001B[49m\u001B[43m(\u001B[49m\u001B[38;5;124;43m'\u001B[39;49m\u001B[38;5;124;43mid\u001B[39;49m\u001B[38;5;124;43m'\u001B[39;49m\u001B[43m,\u001B[49m\u001B[43m \u001B[49m\u001B[43minplace\u001B[49m\u001B[38;5;241;43m=\u001B[39;49m\u001B[38;5;28;43;01mTrue\u001B[39;49;00m\u001B[43m,\u001B[49m\u001B[43m \u001B[49m\u001B[43maxis\u001B[49m\u001B[38;5;241;43m=\u001B[39;49m\u001B[38;5;241;43m1\u001B[39;49m\u001B[43m)\u001B[49m\n",
      "File \u001B[0;32m~/.local/lib/python3.11/site-packages/pandas/core/frame.py:5344\u001B[0m, in \u001B[0;36mDataFrame.drop\u001B[0;34m(self, labels, axis, index, columns, level, inplace, errors)\u001B[0m\n\u001B[1;32m   5196\u001B[0m \u001B[38;5;28;01mdef\u001B[39;00m \u001B[38;5;21mdrop\u001B[39m(\n\u001B[1;32m   5197\u001B[0m     \u001B[38;5;28mself\u001B[39m,\n\u001B[1;32m   5198\u001B[0m     labels: IndexLabel \u001B[38;5;241m|\u001B[39m \u001B[38;5;28;01mNone\u001B[39;00m \u001B[38;5;241m=\u001B[39m \u001B[38;5;28;01mNone\u001B[39;00m,\n\u001B[0;32m   (...)\u001B[0m\n\u001B[1;32m   5205\u001B[0m     errors: IgnoreRaise \u001B[38;5;241m=\u001B[39m \u001B[38;5;124m\"\u001B[39m\u001B[38;5;124mraise\u001B[39m\u001B[38;5;124m\"\u001B[39m,\n\u001B[1;32m   5206\u001B[0m ) \u001B[38;5;241m-\u001B[39m\u001B[38;5;241m>\u001B[39m DataFrame \u001B[38;5;241m|\u001B[39m \u001B[38;5;28;01mNone\u001B[39;00m:\n\u001B[1;32m   5207\u001B[0m \u001B[38;5;250m    \u001B[39m\u001B[38;5;124;03m\"\"\"\u001B[39;00m\n\u001B[1;32m   5208\u001B[0m \u001B[38;5;124;03m    Drop specified labels from rows or columns.\u001B[39;00m\n\u001B[1;32m   5209\u001B[0m \n\u001B[0;32m   (...)\u001B[0m\n\u001B[1;32m   5342\u001B[0m \u001B[38;5;124;03m            weight  1.0     0.8\u001B[39;00m\n\u001B[1;32m   5343\u001B[0m \u001B[38;5;124;03m    \"\"\"\u001B[39;00m\n\u001B[0;32m-> 5344\u001B[0m     \u001B[38;5;28;01mreturn\u001B[39;00m \u001B[38;5;28;43msuper\u001B[39;49m\u001B[43m(\u001B[49m\u001B[43m)\u001B[49m\u001B[38;5;241;43m.\u001B[39;49m\u001B[43mdrop\u001B[49m\u001B[43m(\u001B[49m\n\u001B[1;32m   5345\u001B[0m \u001B[43m        \u001B[49m\u001B[43mlabels\u001B[49m\u001B[38;5;241;43m=\u001B[39;49m\u001B[43mlabels\u001B[49m\u001B[43m,\u001B[49m\n\u001B[1;32m   5346\u001B[0m \u001B[43m        \u001B[49m\u001B[43maxis\u001B[49m\u001B[38;5;241;43m=\u001B[39;49m\u001B[43maxis\u001B[49m\u001B[43m,\u001B[49m\n\u001B[1;32m   5347\u001B[0m \u001B[43m        \u001B[49m\u001B[43mindex\u001B[49m\u001B[38;5;241;43m=\u001B[39;49m\u001B[43mindex\u001B[49m\u001B[43m,\u001B[49m\n\u001B[1;32m   5348\u001B[0m \u001B[43m        \u001B[49m\u001B[43mcolumns\u001B[49m\u001B[38;5;241;43m=\u001B[39;49m\u001B[43mcolumns\u001B[49m\u001B[43m,\u001B[49m\n\u001B[1;32m   5349\u001B[0m \u001B[43m        \u001B[49m\u001B[43mlevel\u001B[49m\u001B[38;5;241;43m=\u001B[39;49m\u001B[43mlevel\u001B[49m\u001B[43m,\u001B[49m\n\u001B[1;32m   5350\u001B[0m \u001B[43m        \u001B[49m\u001B[43minplace\u001B[49m\u001B[38;5;241;43m=\u001B[39;49m\u001B[43minplace\u001B[49m\u001B[43m,\u001B[49m\n\u001B[1;32m   5351\u001B[0m \u001B[43m        \u001B[49m\u001B[43merrors\u001B[49m\u001B[38;5;241;43m=\u001B[39;49m\u001B[43merrors\u001B[49m\u001B[43m,\u001B[49m\n\u001B[1;32m   5352\u001B[0m \u001B[43m    \u001B[49m\u001B[43m)\u001B[49m\n",
      "File \u001B[0;32m~/.local/lib/python3.11/site-packages/pandas/core/generic.py:4711\u001B[0m, in \u001B[0;36mNDFrame.drop\u001B[0;34m(self, labels, axis, index, columns, level, inplace, errors)\u001B[0m\n\u001B[1;32m   4709\u001B[0m \u001B[38;5;28;01mfor\u001B[39;00m axis, labels \u001B[38;5;129;01min\u001B[39;00m axes\u001B[38;5;241m.\u001B[39mitems():\n\u001B[1;32m   4710\u001B[0m     \u001B[38;5;28;01mif\u001B[39;00m labels \u001B[38;5;129;01mis\u001B[39;00m \u001B[38;5;129;01mnot\u001B[39;00m \u001B[38;5;28;01mNone\u001B[39;00m:\n\u001B[0;32m-> 4711\u001B[0m         obj \u001B[38;5;241m=\u001B[39m \u001B[43mobj\u001B[49m\u001B[38;5;241;43m.\u001B[39;49m\u001B[43m_drop_axis\u001B[49m\u001B[43m(\u001B[49m\u001B[43mlabels\u001B[49m\u001B[43m,\u001B[49m\u001B[43m \u001B[49m\u001B[43maxis\u001B[49m\u001B[43m,\u001B[49m\u001B[43m \u001B[49m\u001B[43mlevel\u001B[49m\u001B[38;5;241;43m=\u001B[39;49m\u001B[43mlevel\u001B[49m\u001B[43m,\u001B[49m\u001B[43m \u001B[49m\u001B[43merrors\u001B[49m\u001B[38;5;241;43m=\u001B[39;49m\u001B[43merrors\u001B[49m\u001B[43m)\u001B[49m\n\u001B[1;32m   4713\u001B[0m \u001B[38;5;28;01mif\u001B[39;00m inplace:\n\u001B[1;32m   4714\u001B[0m     \u001B[38;5;28mself\u001B[39m\u001B[38;5;241m.\u001B[39m_update_inplace(obj)\n",
      "File \u001B[0;32m~/.local/lib/python3.11/site-packages/pandas/core/generic.py:4753\u001B[0m, in \u001B[0;36mNDFrame._drop_axis\u001B[0;34m(self, labels, axis, level, errors, only_slice)\u001B[0m\n\u001B[1;32m   4751\u001B[0m         new_axis \u001B[38;5;241m=\u001B[39m axis\u001B[38;5;241m.\u001B[39mdrop(labels, level\u001B[38;5;241m=\u001B[39mlevel, errors\u001B[38;5;241m=\u001B[39merrors)\n\u001B[1;32m   4752\u001B[0m     \u001B[38;5;28;01melse\u001B[39;00m:\n\u001B[0;32m-> 4753\u001B[0m         new_axis \u001B[38;5;241m=\u001B[39m \u001B[43maxis\u001B[49m\u001B[38;5;241;43m.\u001B[39;49m\u001B[43mdrop\u001B[49m\u001B[43m(\u001B[49m\u001B[43mlabels\u001B[49m\u001B[43m,\u001B[49m\u001B[43m \u001B[49m\u001B[43merrors\u001B[49m\u001B[38;5;241;43m=\u001B[39;49m\u001B[43merrors\u001B[49m\u001B[43m)\u001B[49m\n\u001B[1;32m   4754\u001B[0m     indexer \u001B[38;5;241m=\u001B[39m axis\u001B[38;5;241m.\u001B[39mget_indexer(new_axis)\n\u001B[1;32m   4756\u001B[0m \u001B[38;5;66;03m# Case for non-unique axis\u001B[39;00m\n\u001B[1;32m   4757\u001B[0m \u001B[38;5;28;01melse\u001B[39;00m:\n",
      "File \u001B[0;32m~/.local/lib/python3.11/site-packages/pandas/core/indexes/base.py:6992\u001B[0m, in \u001B[0;36mIndex.drop\u001B[0;34m(self, labels, errors)\u001B[0m\n\u001B[1;32m   6990\u001B[0m \u001B[38;5;28;01mif\u001B[39;00m mask\u001B[38;5;241m.\u001B[39many():\n\u001B[1;32m   6991\u001B[0m     \u001B[38;5;28;01mif\u001B[39;00m errors \u001B[38;5;241m!=\u001B[39m \u001B[38;5;124m\"\u001B[39m\u001B[38;5;124mignore\u001B[39m\u001B[38;5;124m\"\u001B[39m:\n\u001B[0;32m-> 6992\u001B[0m         \u001B[38;5;28;01mraise\u001B[39;00m \u001B[38;5;167;01mKeyError\u001B[39;00m(\u001B[38;5;124mf\u001B[39m\u001B[38;5;124m\"\u001B[39m\u001B[38;5;132;01m{\u001B[39;00mlabels[mask]\u001B[38;5;241m.\u001B[39mtolist()\u001B[38;5;132;01m}\u001B[39;00m\u001B[38;5;124m not found in axis\u001B[39m\u001B[38;5;124m\"\u001B[39m)\n\u001B[1;32m   6993\u001B[0m     indexer \u001B[38;5;241m=\u001B[39m indexer[\u001B[38;5;241m~\u001B[39mmask]\n\u001B[1;32m   6994\u001B[0m \u001B[38;5;28;01mreturn\u001B[39;00m \u001B[38;5;28mself\u001B[39m\u001B[38;5;241m.\u001B[39mdelete(indexer)\n",
      "\u001B[0;31mKeyError\u001B[0m: \"['id'] not found in axis\""
     ]
    }
   ],
   "source": [
    "f.drop('id', inplace=True, axis=1)"
   ],
   "metadata": {
    "collapsed": false,
    "ExecuteTime": {
     "end_time": "2024-01-10T14:04:50.685380418Z",
     "start_time": "2024-01-10T14:04:50.320076287Z"
    }
   },
   "id": "6ee160876f8aecaf"
  },
  {
   "cell_type": "code",
   "execution_count": 124,
   "outputs": [],
   "source": [
    "# f.drop(0, inplace=True)"
   ],
   "metadata": {
    "collapsed": false,
    "ExecuteTime": {
     "end_time": "2024-01-10T14:04:58.361877994Z",
     "start_time": "2024-01-10T14:04:58.337102353Z"
    }
   },
   "id": "4aceb4cfa9c37892"
  },
  {
   "cell_type": "code",
   "execution_count": 125,
   "outputs": [
    {
     "name": "stdout",
     "output_type": "stream",
     "text": [
      "['Andhra Pradesh' 'Arunachal Pradesh' 'Assam' 'Bihar' 'Chandigarh'\n",
      " 'Chhattisgarh' 'Delhi' 'Goa' 'Gujarat' 'Haryana' 'Himachal Pradesh'\n",
      " 'Jammu and Kashmir' 'Jharkhand' 'Karnataka' 'Kerala' 'Madhya Pradesh'\n",
      " 'Maharashtra' 'Manipur' 'Meghalaya' 'Mizoram' 'Nagaland' 'Orissa'\n",
      " 'Puducherry' 'Punjab' 'Rajasthan' 'Sikkim' 'Tamil Nadu' 'Tripura'\n",
      " 'Uttar Pradesh' 'Uttaranchal' 'West Bengal']\n"
     ]
    }
   ],
   "source": [
    "print(ff.get('NAME_1').values)\n"
   ],
   "metadata": {
    "collapsed": false,
    "ExecuteTime": {
     "end_time": "2024-01-10T14:05:01.011692154Z",
     "start_time": "2024-01-10T14:05:00.972573074Z"
    }
   },
   "id": "bc8e1712366ad34a"
  },
  {
   "cell_type": "code",
   "execution_count": 97,
   "outputs": [],
   "source": [
    "\n",
    "\n",
    "lst = ['Andhra Pradesh', 'Arunachal Pradesh', 'Assam', 'Bihar', 'Chandigarh', 'Chhattisgarh',  'Delhi', 'Goa', 'Gujarat', 'Haryana', 'Himachal Pradesh', 'Jammu and Kashmir', 'Jharkhand', 'Karnataka', 'Kerala', 'Madhya Pradesh', 'Maharashtra', 'Manipur', 'Meghalaya', 'Mizoram', 'Nagaland', 'Orissa', 'Puducherry', 'Punjab', 'Rajasthan', 'Sikkim', 'Tamil Nadu', 'Tripura', 'Uttar Pradesh', 'Uttaranchal', 'West Bengal']\n",
    "ff = f[[i in lst for i in f['NAME_1']]]\n",
    "\n"
   ],
   "metadata": {
    "collapsed": false,
    "ExecuteTime": {
     "end_time": "2024-01-10T13:55:56.873957731Z",
     "start_time": "2024-01-10T13:55:56.852975946Z"
    }
   },
   "id": "67e2bfef3d87ba8a"
  },
  {
   "cell_type": "code",
   "execution_count": 104,
   "outputs": [
    {
     "name": "stderr",
     "output_type": "stream",
     "text": [
      "/tmp/ipykernel_13274/3666756125.py:1: SettingWithCopyWarning: \n",
      "A value is trying to be set on a copy of a slice from a DataFrame\n",
      "\n",
      "See the caveats in the documentation: https://pandas.pydata.org/pandas-docs/stable/user_guide/indexing.html#returning-a-view-versus-a-copy\n",
      "  ff.iloc[21]['NAME_1'] = 'Odisha'\n"
     ]
    }
   ],
   "source": [
    "ff.iloc[21]['NAME_1'] = 'Odisha'"
   ],
   "metadata": {
    "collapsed": false,
    "ExecuteTime": {
     "end_time": "2024-01-10T13:57:01.863809940Z",
     "start_time": "2024-01-10T13:57:01.841959933Z"
    }
   },
   "id": "6699e4e215737d09"
  },
  {
   "cell_type": "code",
   "execution_count": 108,
   "outputs": [
    {
     "ename": "AttributeError",
     "evalue": "'str' object has no attribute 'set'",
     "output_type": "error",
     "traceback": [
      "\u001B[0;31m---------------------------------------------------------------------------\u001B[0m",
      "\u001B[0;31mAttributeError\u001B[0m                            Traceback (most recent call last)",
      "Cell \u001B[0;32mIn[108], line 1\u001B[0m\n\u001B[0;32m----> 1\u001B[0m \u001B[43mff\u001B[49m\u001B[38;5;241;43m.\u001B[39;49m\u001B[43miloc\u001B[49m\u001B[43m[\u001B[49m\u001B[38;5;241;43m21\u001B[39;49m\u001B[43m]\u001B[49m\u001B[38;5;241;43m.\u001B[39;49m\u001B[43mNAME_1\u001B[49m\u001B[38;5;241;43m.\u001B[39;49m\u001B[43mset\u001B[49m(\u001B[38;5;124m'\u001B[39m\u001B[38;5;124mOdisha\u001B[39m\u001B[38;5;124m'\u001B[39m)\n",
      "\u001B[0;31mAttributeError\u001B[0m: 'str' object has no attribute 'set'"
     ]
    }
   ],
   "source": [
    "ff.iloc[21].NAME_1.set('Odisha')"
   ],
   "metadata": {
    "collapsed": false,
    "ExecuteTime": {
     "end_time": "2024-01-10T13:57:48.138739426Z",
     "start_time": "2024-01-10T13:57:48.099176977Z"
    }
   },
   "id": "8a6575cb525357f8"
  },
  {
   "cell_type": "code",
   "execution_count": 88,
   "outputs": [],
   "source": [
    "ff = open(file, 'w')\n",
    "ff.write(f.to_json())\n",
    "ff.close()"
   ],
   "metadata": {
    "collapsed": false,
    "ExecuteTime": {
     "end_time": "2024-01-10T13:55:36.385711946Z",
     "start_time": "2024-01-10T13:55:34.452089064Z"
    }
   },
   "id": "8e4760334dcfc351"
  },
  {
   "cell_type": "code",
   "execution_count": 22,
   "outputs": [
    {
     "data": {
      "text/plain": "'asdf asdf'"
     },
     "execution_count": 22,
     "metadata": {},
     "output_type": "execute_result"
    }
   ],
   "source": [
    "\" \".join(\" \".join(\"asdf asdf\".split(\"_\")).split(\" \"))"
   ],
   "metadata": {
    "collapsed": false,
    "ExecuteTime": {
     "end_time": "2024-01-07T20:10:36.617995087Z",
     "start_time": "2024-01-07T20:10:36.578083945Z"
    }
   },
   "id": "dbb81712ff8bab03"
  },
  {
   "cell_type": "code",
   "execution_count": null,
   "outputs": [],
   "source": [],
   "metadata": {
    "collapsed": false
   },
   "id": "44ba992250db5edd"
  }
 ],
 "metadata": {
  "kernelspec": {
   "display_name": "Python 3 (ipykernel)",
   "language": "python",
   "name": "python3"
  },
  "language_info": {
   "codemirror_mode": {
    "name": "ipython",
    "version": 3
   },
   "file_extension": ".py",
   "mimetype": "text/x-python",
   "name": "python",
   "nbconvert_exporter": "python",
   "pygments_lexer": "ipython3",
   "version": "3.11.0rc1"
  }
 },
 "nbformat": 4,
 "nbformat_minor": 5
}
