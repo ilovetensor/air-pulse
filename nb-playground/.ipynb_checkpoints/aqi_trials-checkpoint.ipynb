{
 "cells": [
  {
   "cell_type": "code",
   "execution_count": 33,
   "id": "initial_id",
   "metadata": {
    "collapsed": true,
    "ExecuteTime": {
     "end_time": "2024-01-07T15:46:40.504776326Z",
     "start_time": "2024-01-07T15:46:40.458045226Z"
    }
   },
   "outputs": [],
   "source": [
    "import numpy as np\n",
    "import pandas as pd\n"
   ]
  },
  {
   "cell_type": "code",
   "execution_count": 34,
   "outputs": [],
   "source": [
    "df = pd.read_csv('dataset/live_data.csv')"
   ],
   "metadata": {
    "collapsed": false,
    "ExecuteTime": {
     "end_time": "2024-01-07T15:46:40.721559139Z",
     "start_time": "2024-01-07T15:46:40.697300381Z"
    }
   },
   "id": "d9802202311b84e6"
  },
  {
   "cell_type": "code",
   "execution_count": 35,
   "outputs": [
    {
     "data": {
      "text/plain": "  country           state       city                              station  \\\n0   India  Andhra_Pradesh  Anantapur         Gulzarpet, Anantapur - APPCB   \n1   India  Andhra_Pradesh  Anantapur         Gulzarpet, Anantapur - APPCB   \n2   India  Andhra_Pradesh   Chittoor  Gangineni Cheruvu, Chittoor - APPCB   \n3   India  Andhra_Pradesh   Chittoor  Gangineni Cheruvu, Chittoor - APPCB   \n4   India  Andhra_Pradesh     Kadapa      Yerramukkapalli, Kadapa - APPCB   \n\n           last_update   latitude  longitude pollutant_id  pollutant_min  \\\n0  07-01-2024 09:00:00  14.675886  77.593027          SO2            4.0   \n1  07-01-2024 09:00:00  14.675886  77.593027        OZONE           17.0   \n2  07-01-2024 09:00:00  13.204880  79.097889          SO2            7.0   \n3  07-01-2024 09:00:00  13.204880  79.097889           CO            2.0   \n4  07-01-2024 09:00:00  14.465052  78.824187          NH3            NaN   \n\n   pollutant_max  pollutant_avg  \n0            7.0            5.0  \n1           39.0           22.0  \n2           41.0           14.0  \n3           20.0            8.0  \n4            NaN            NaN  ",
      "text/html": "<div>\n<style scoped>\n    .dataframe tbody tr th:only-of-type {\n        vertical-align: middle;\n    }\n\n    .dataframe tbody tr th {\n        vertical-align: top;\n    }\n\n    .dataframe thead th {\n        text-align: right;\n    }\n</style>\n<table border=\"1\" class=\"dataframe\">\n  <thead>\n    <tr style=\"text-align: right;\">\n      <th></th>\n      <th>country</th>\n      <th>state</th>\n      <th>city</th>\n      <th>station</th>\n      <th>last_update</th>\n      <th>latitude</th>\n      <th>longitude</th>\n      <th>pollutant_id</th>\n      <th>pollutant_min</th>\n      <th>pollutant_max</th>\n      <th>pollutant_avg</th>\n    </tr>\n  </thead>\n  <tbody>\n    <tr>\n      <th>0</th>\n      <td>India</td>\n      <td>Andhra_Pradesh</td>\n      <td>Anantapur</td>\n      <td>Gulzarpet, Anantapur - APPCB</td>\n      <td>07-01-2024 09:00:00</td>\n      <td>14.675886</td>\n      <td>77.593027</td>\n      <td>SO2</td>\n      <td>4.0</td>\n      <td>7.0</td>\n      <td>5.0</td>\n    </tr>\n    <tr>\n      <th>1</th>\n      <td>India</td>\n      <td>Andhra_Pradesh</td>\n      <td>Anantapur</td>\n      <td>Gulzarpet, Anantapur - APPCB</td>\n      <td>07-01-2024 09:00:00</td>\n      <td>14.675886</td>\n      <td>77.593027</td>\n      <td>OZONE</td>\n      <td>17.0</td>\n      <td>39.0</td>\n      <td>22.0</td>\n    </tr>\n    <tr>\n      <th>2</th>\n      <td>India</td>\n      <td>Andhra_Pradesh</td>\n      <td>Chittoor</td>\n      <td>Gangineni Cheruvu, Chittoor - APPCB</td>\n      <td>07-01-2024 09:00:00</td>\n      <td>13.204880</td>\n      <td>79.097889</td>\n      <td>SO2</td>\n      <td>7.0</td>\n      <td>41.0</td>\n      <td>14.0</td>\n    </tr>\n    <tr>\n      <th>3</th>\n      <td>India</td>\n      <td>Andhra_Pradesh</td>\n      <td>Chittoor</td>\n      <td>Gangineni Cheruvu, Chittoor - APPCB</td>\n      <td>07-01-2024 09:00:00</td>\n      <td>13.204880</td>\n      <td>79.097889</td>\n      <td>CO</td>\n      <td>2.0</td>\n      <td>20.0</td>\n      <td>8.0</td>\n    </tr>\n    <tr>\n      <th>4</th>\n      <td>India</td>\n      <td>Andhra_Pradesh</td>\n      <td>Kadapa</td>\n      <td>Yerramukkapalli, Kadapa - APPCB</td>\n      <td>07-01-2024 09:00:00</td>\n      <td>14.465052</td>\n      <td>78.824187</td>\n      <td>NH3</td>\n      <td>NaN</td>\n      <td>NaN</td>\n      <td>NaN</td>\n    </tr>\n  </tbody>\n</table>\n</div>"
     },
     "execution_count": 35,
     "metadata": {},
     "output_type": "execute_result"
    }
   ],
   "source": [
    "df.head()"
   ],
   "metadata": {
    "collapsed": false,
    "ExecuteTime": {
     "end_time": "2024-01-07T15:46:41.328082988Z",
     "start_time": "2024-01-07T15:46:41.312593005Z"
    }
   },
   "id": "aa71c3be0baf9991"
  },
  {
   "cell_type": "code",
   "execution_count": 36,
   "outputs": [],
   "source": [
    "df.dropna(inplace=True)"
   ],
   "metadata": {
    "collapsed": false,
    "ExecuteTime": {
     "end_time": "2024-01-07T15:46:42.194247256Z",
     "start_time": "2024-01-07T15:46:42.182510296Z"
    }
   },
   "id": "319e032b7911d4c6"
  },
  {
   "cell_type": "code",
   "execution_count": 37,
   "outputs": [],
   "source": [
    "df.drop_duplicates(inplace=True)\n",
    "# \n",
    "# df['country_avg'] = \n",
    "\n"
   ],
   "metadata": {
    "collapsed": false,
    "ExecuteTime": {
     "end_time": "2024-01-07T15:46:42.405694684Z",
     "start_time": "2024-01-07T15:46:42.388881019Z"
    }
   },
   "id": "cea5d119da1e7fe0"
  },
  {
   "cell_type": "code",
   "execution_count": 38,
   "outputs": [],
   "source": [
    "dd = df.groupby(['state','pollutant_id'])['pollutant_avg'].mean()"
   ],
   "metadata": {
    "collapsed": false,
    "ExecuteTime": {
     "end_time": "2024-01-07T15:46:42.623314746Z",
     "start_time": "2024-01-07T15:46:42.593346814Z"
    }
   },
   "id": "232c080488742910"
  },
  {
   "cell_type": "code",
   "execution_count": 38,
   "outputs": [],
   "source": [],
   "metadata": {
    "collapsed": false,
    "ExecuteTime": {
     "end_time": "2024-01-07T15:46:42.838509106Z",
     "start_time": "2024-01-07T15:46:42.795896126Z"
    }
   },
   "id": "ff360b466ce6419e"
  },
  {
   "cell_type": "code",
   "execution_count": 39,
   "outputs": [],
   "source": [
    "country_avg = df.groupby('pollutant_id')['pollutant_avg'].mean()\n",
    "state_avg = df.groupby(['state','pollutant_id'])['pollutant_avg'].mean()\n",
    "\n"
   ],
   "metadata": {
    "collapsed": false,
    "ExecuteTime": {
     "end_time": "2024-01-07T15:46:43.081195397Z",
     "start_time": "2024-01-07T15:46:42.996784367Z"
    }
   },
   "id": "876dc48eb7a68a8d"
  },
  {
   "cell_type": "code",
   "execution_count": 39,
   "outputs": [],
   "source": [],
   "metadata": {
    "collapsed": false,
    "ExecuteTime": {
     "end_time": "2024-01-07T15:46:43.183015350Z",
     "start_time": "2024-01-07T15:46:43.178326915Z"
    }
   },
   "id": "71bf85944521d4fe"
  },
  {
   "cell_type": "code",
   "execution_count": 48,
   "outputs": [
    {
     "data": {
      "text/plain": "<Figure size 640x480 with 1 Axes>",
      "image/png": "[encoded data removed]"
     },
     "metadata": {},
     "output_type": "display_data"
    }
   ],
   "source": [
    "import matplotlib.pyplot as plt\n",
    "import numpy as np\n",
    "\n",
    "plt.figure()\n",
    "\n",
    "xvals = list('ABCDE')\n",
    "yvals = np.array(range(1, 6))\n",
    "\n",
    "position = np.arange(len(xvals))\n",
    "\n",
    "mybars = plt.bar(position, yvals, align='center', linewidth=0)\n",
    "plt.xticks(position, xvals)\n",
    "\n",
    "plt.title('My great data')\n",
    "# plt.show()\n",
    "\n",
    "# get rid of the frame\n",
    "for spine in plt.gca().spines.values():\n",
    "    spine.set_visible(False)\n",
    "\n",
    "# plt.show()\n",
    "# remove all the ticks and directly label each bar with respective value\n",
    "plt.tick_params(top=False, bottom=False, left=False, right=False, labelleft=False, labelbottom=True)\n",
    "\n",
    "# plt.show()\n",
    "\n",
    "# direct label each bar with Y axis values\n",
    "for bari in mybars:\n",
    "    height = bari.get_height()\n",
    "    plt.gca().text(bari.get_x() + bari.get_width()/2, bari.get_height()-0.4, str(int(height)),\n",
    "                 ha='center', color='white', fontsize=15)\n",
    "plt.show()"
   ],
   "metadata": {
    "collapsed": false,
    "ExecuteTime": {
     "end_time": "2024-01-07T15:49:23.744649283Z",
     "start_time": "2024-01-07T15:49:23.544770501Z"
    }
   },
   "id": "9e191339f3a4c57e"
  },
  {
   "cell_type": "code",
   "execution_count": 41,
   "outputs": [
    {
     "name": "stderr",
     "output_type": "stream",
     "text": [
      "/tmp/ipykernel_40898/921022543.py:7: MatplotlibDeprecationWarning: The get_cmap function was deprecated in Matplotlib 3.7 and will be removed two minor releases later. Use ``matplotlib.colormaps[name]`` or ``matplotlib.colormaps.get_cmap(obj)`` instead.\n",
      "  cmap = plt.cm.get_cmap('coolwarm')  # Use plt.cm.get_cmap\n"
     ]
    },
    {
     "data": {
      "text/plain": "<Figure size 640x480 with 1 Axes>",
      "image/png": "[encoded data removed]"
     },
     "metadata": {},
     "output_type": "display_data"
    }
   ],
   "source": [
    "import matplotlib.pyplot as plt\n",
    "\n",
    "lst = [20, 30, 50]\n",
    "id = ['Country', 'State', 'City']\n",
    "\n",
    "# Access the coolwarm colormap using the correct attribute\n",
    "cmap = plt.cm.get_cmap('coolwarm')  # Use plt.cm.get_cmap\n",
    "\n",
    "# Create the bar chart with a gradient colormap\n",
    "plt.bar(id, lst, color=cmap(lst))\n",
    "\n",
    "# Customize the chart (same as before)\n",
    "plt.xlabel(\"Location Level\")\n",
    "plt.ylabel(\"Value\")\n",
    "plt.title(\"Beautiful Gradient Bar Chart\")\n",
    "plt.xticks(rotation=45, ha='right')\n",
    "plt.grid(axis='y', linestyle='--', alpha=0.7)\n",
    "plt.tight_layout()\n",
    "\n",
    "# Show the chart\n",
    "plt.show()\n"
   ],
   "metadata": {
    "collapsed": false,
    "ExecuteTime": {
     "end_time": "2024-01-07T15:46:43.893738099Z",
     "start_time": "2024-01-07T15:46:43.615007996Z"
    }
   },
   "id": "5e94357b4826f2ed"
  },
  {
   "cell_type": "code",
   "execution_count": 41,
   "outputs": [],
   "source": [],
   "metadata": {
    "collapsed": false,
    "ExecuteTime": {
     "end_time": "2024-01-07T15:46:43.894081840Z",
     "start_time": "2024-01-07T15:46:43.888730990Z"
    }
   },
   "id": "bc80095c98e8b2c9"
  },
  {
   "cell_type": "code",
   "execution_count": null,
   "outputs": [],
   "source": [],
   "metadata": {
    "collapsed": false
   },
   "id": "56be2aac9566d0c4"
  }
 ],
 "metadata": {
  "kernelspec": {
   "display_name": "Python 3",
   "language": "python",
   "name": "python3"
  },
  "language_info": {
   "codemirror_mode": {
    "name": "ipython",
    "version": 2
   },
   "file_extension": ".py",
   "mimetype": "text/x-python",
   "name": "python",
   "nbconvert_exporter": "python",
   "pygments_lexer": "ipython2",
   "version": "2.7.6"
  }
 },
 "nbformat": 4,
 "nbformat_minor": 5
}
