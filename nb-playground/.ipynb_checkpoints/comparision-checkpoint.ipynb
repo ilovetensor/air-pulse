{
 "cells": [
  {
   "cell_type": "code",
   "execution_count": null,
   "id": "cd7060db-5911-48b9-9120-ec9f2cf307de",
   "metadata": {},
   "outputs": [],
   "source": []
  }
 ],
 "metadata": {
  "kernelspec": {
   "display_name": "Python 3 (ipykernel)",
   "language": "python",
   "name": "python3"
  },
  "language_info": {
   "codemirror_mode": {
    "name": "ipython",
    "version": 3
   },
   "file_extension": ".py",
   "mimetype": "text/x-python",
   "name": "python",
   "nbconvert_exporter": "python",
   "pygments_lexer": "ipython3",
   "version": "3.11.0rc1"
  }
 },
 "nbformat": 4,
 "nbformat_minor": 5
}
