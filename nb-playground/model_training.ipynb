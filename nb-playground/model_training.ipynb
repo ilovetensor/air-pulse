{
 "cells": [
  {
   "cell_type": "code",
   "execution_count": 1,
   "id": "cd7060db-5911-48b9-9120-ec9f2cf307de",
   "metadata": {
    "ExecuteTime": {
     "end_time": "2024-01-08T12:21:43.057717684Z",
     "start_time": "2024-01-08T12:21:43.036682631Z"
    }
   },
   "outputs": [],
   "source": [
    "import numpy as np\n",
    "import pandas as pd\n",
    "import matplotlib.pyplot as plt\n",
    "import seaborn as sns"
   ]
  },
  {
   "cell_type": "markdown",
   "id": "8f0aacde-fc2e-4af3-ba12-cc166303324c",
   "metadata": {},
   "source": [
    "## Loading Dataset"
   ]
  },
  {
   "cell_type": "code",
   "execution_count": 2,
   "id": "c155b928-7f3d-4295-aeee-05208793c7e7",
   "metadata": {
    "ExecuteTime": {
     "end_time": "2024-01-08T12:21:43.064052892Z",
     "start_time": "2024-01-08T12:21:43.043060846Z"
    }
   },
   "outputs": [],
   "source": [
    "path1 = './dataset/historical_data.csv'\n",
    "path2 = './dataset/poptable.csv'"
   ]
  },
  {
   "cell_type": "code",
   "execution_count": 3,
   "id": "ac3aabc7-0ba5-49a2-9fad-779b8787510e",
   "metadata": {
    "ExecuteTime": {
     "end_time": "2024-01-08T12:21:43.072139846Z",
     "start_time": "2024-01-08T12:21:43.051038423Z"
    }
   },
   "outputs": [],
   "source": [
    "state = pd.read_csv(path2)"
   ]
  },
  {
   "cell_type": "code",
   "execution_count": 4,
   "id": "47848987-b628-48da-adc9-7d24cb47f3b9",
   "metadata": {
    "ExecuteTime": {
     "end_time": "2024-01-08T12:21:44.547148818Z",
     "start_time": "2024-01-08T12:21:43.105807149Z"
    }
   },
   "outputs": [
    {
     "name": "stderr",
     "output_type": "stream",
     "text": [
      "/tmp/ipykernel_3213/1707999065.py:1: DtypeWarning: Columns (0) have mixed types. Specify dtype option on import or set low_memory=False.\n",
      "  df=pd.read_csv('./dataset/historical_data.csv', encoding=\"ISO-8859-1\", parse_dates=['date'])\n"
     ]
    },
    {
     "data": {
      "text/plain": "  stn_code       sampling_date           state   location agency  \\\n0    150.0  February - M021990  Andhra Pradesh  Hyderabad    NaN   \n1    151.0  February - M021990  Andhra Pradesh  Hyderabad    NaN   \n2    152.0  February - M021990  Andhra Pradesh  Hyderabad    NaN   \n3    150.0     March - M031990  Andhra Pradesh  Hyderabad    NaN   \n4    151.0     March - M031990  Andhra Pradesh  Hyderabad    NaN   \n\n                                 type  so2   no2  rspm  spm  \\\n0  Residential, Rural and other Areas  4.8  17.4   NaN  NaN   \n1                     Industrial Area  3.1   7.0   NaN  NaN   \n2  Residential, Rural and other Areas  6.2  28.5   NaN  NaN   \n3  Residential, Rural and other Areas  6.3  14.7   NaN  NaN   \n4                     Industrial Area  4.7   7.5   NaN  NaN   \n\n  location_monitoring_station  pm2_5       date  \n0                         NaN    NaN 1990-02-01  \n1                         NaN    NaN 1990-02-01  \n2                         NaN    NaN 1990-02-01  \n3                         NaN    NaN 1990-03-01  \n4                         NaN    NaN 1990-03-01  ",
      "text/html": "<div>\n<style scoped>\n    .dataframe tbody tr th:only-of-type {\n        vertical-align: middle;\n    }\n\n    .dataframe tbody tr th {\n        vertical-align: top;\n    }\n\n    .dataframe thead th {\n        text-align: right;\n    }\n</style>\n<table border=\"1\" class=\"dataframe\">\n  <thead>\n    <tr style=\"text-align: right;\">\n      <th></th>\n      <th>stn_code</th>\n      <th>sampling_date</th>\n      <th>state</th>\n      <th>location</th>\n      <th>agency</th>\n      <th>type</th>\n      <th>so2</th>\n      <th>no2</th>\n      <th>rspm</th>\n      <th>spm</th>\n      <th>location_monitoring_station</th>\n      <th>pm2_5</th>\n      <th>date</th>\n    </tr>\n  </thead>\n  <tbody>\n    <tr>\n      <th>0</th>\n      <td>150.0</td>\n      <td>February - M021990</td>\n      <td>Andhra Pradesh</td>\n      <td>Hyderabad</td>\n      <td>NaN</td>\n      <td>Residential, Rural and other Areas</td>\n      <td>4.8</td>\n      <td>17.4</td>\n      <td>NaN</td>\n      <td>NaN</td>\n      <td>NaN</td>\n      <td>NaN</td>\n      <td>1990-02-01</td>\n    </tr>\n    <tr>\n      <th>1</th>\n      <td>151.0</td>\n      <td>February - M021990</td>\n      <td>Andhra Pradesh</td>\n      <td>Hyderabad</td>\n      <td>NaN</td>\n      <td>Industrial Area</td>\n      <td>3.1</td>\n      <td>7.0</td>\n      <td>NaN</td>\n      <td>NaN</td>\n      <td>NaN</td>\n      <td>NaN</td>\n      <td>1990-02-01</td>\n    </tr>\n    <tr>\n      <th>2</th>\n      <td>152.0</td>\n      <td>February - M021990</td>\n      <td>Andhra Pradesh</td>\n      <td>Hyderabad</td>\n      <td>NaN</td>\n      <td>Residential, Rural and other Areas</td>\n      <td>6.2</td>\n      <td>28.5</td>\n      <td>NaN</td>\n      <td>NaN</td>\n      <td>NaN</td>\n      <td>NaN</td>\n      <td>1990-02-01</td>\n    </tr>\n    <tr>\n      <th>3</th>\n      <td>150.0</td>\n      <td>March - M031990</td>\n      <td>Andhra Pradesh</td>\n      <td>Hyderabad</td>\n      <td>NaN</td>\n      <td>Residential, Rural and other Areas</td>\n      <td>6.3</td>\n      <td>14.7</td>\n      <td>NaN</td>\n      <td>NaN</td>\n      <td>NaN</td>\n      <td>NaN</td>\n      <td>1990-03-01</td>\n    </tr>\n    <tr>\n      <th>4</th>\n      <td>151.0</td>\n      <td>March - M031990</td>\n      <td>Andhra Pradesh</td>\n      <td>Hyderabad</td>\n      <td>NaN</td>\n      <td>Industrial Area</td>\n      <td>4.7</td>\n      <td>7.5</td>\n      <td>NaN</td>\n      <td>NaN</td>\n      <td>NaN</td>\n      <td>NaN</td>\n      <td>1990-03-01</td>\n    </tr>\n  </tbody>\n</table>\n</div>"
     },
     "execution_count": 4,
     "metadata": {},
     "output_type": "execute_result"
    }
   ],
   "source": [
    "df=pd.read_csv('./dataset/historical_data.csv', encoding=\"ISO-8859-1\", parse_dates=['date'])\n",
    "df.head()"
   ]
  },
  {
   "cell_type": "code",
   "execution_count": 5,
   "id": "488ebaf2-a953-4c9c-ac86-1fe8d11b4a7c",
   "metadata": {
    "ExecuteTime": {
     "end_time": "2024-01-08T12:21:44.823240956Z",
     "start_time": "2024-01-08T12:21:44.538017753Z"
    }
   },
   "outputs": [
    {
     "name": "stdout",
     "output_type": "stream",
     "text": [
      "<class 'pandas.core.frame.DataFrame'>\n",
      "RangeIndex: 435742 entries, 0 to 435741\n",
      "Data columns (total 13 columns):\n",
      " #   Column                       Non-Null Count   Dtype         \n",
      "---  ------                       --------------   -----         \n",
      " 0   stn_code                     291665 non-null  object        \n",
      " 1   sampling_date                435739 non-null  object        \n",
      " 2   state                        435742 non-null  object        \n",
      " 3   location                     435739 non-null  object        \n",
      " 4   agency                       286261 non-null  object        \n",
      " 5   type                         430349 non-null  object        \n",
      " 6   so2                          401096 non-null  float64       \n",
      " 7   no2                          419509 non-null  float64       \n",
      " 8   rspm                         395520 non-null  float64       \n",
      " 9   spm                          198355 non-null  float64       \n",
      " 10  location_monitoring_station  408251 non-null  object        \n",
      " 11  pm2_5                        9314 non-null    float64       \n",
      " 12  date                         435735 non-null  datetime64[ns]\n",
      "dtypes: datetime64[ns](1), float64(5), object(7)\n",
      "memory usage: 43.2+ MB\n"
     ]
    }
   ],
   "source": [
    "df.info()"
   ]
  },
  {
   "cell_type": "code",
   "execution_count": 6,
   "id": "5da09f6d-fcf0-4326-b1db-bea00679a72c",
   "metadata": {
    "ExecuteTime": {
     "end_time": "2024-01-08T12:21:44.824423483Z",
     "start_time": "2024-01-08T12:21:44.740593816Z"
    }
   },
   "outputs": [],
   "source": [
    "drop_cols = ['stn_code', 'sampling_date', 'location', 'agency', 'type', \n",
    "             'location_monitoring_station']\n",
    "df.drop(drop_cols, inplace=True, axis=1)"
   ]
  },
  {
   "cell_type": "code",
   "execution_count": 7,
   "id": "551aa907-1a13-4647-bf3e-2dc7e1730903",
   "metadata": {
    "ExecuteTime": {
     "end_time": "2024-01-08T12:21:44.826388513Z",
     "start_time": "2024-01-08T12:21:44.752858655Z"
    }
   },
   "outputs": [
    {
     "data": {
      "text/plain": "            state  so2   no2  rspm  spm  pm2_5       date\n0  Andhra Pradesh  4.8  17.4   NaN  NaN    NaN 1990-02-01\n1  Andhra Pradesh  3.1   7.0   NaN  NaN    NaN 1990-02-01\n2  Andhra Pradesh  6.2  28.5   NaN  NaN    NaN 1990-02-01\n3  Andhra Pradesh  6.3  14.7   NaN  NaN    NaN 1990-03-01\n4  Andhra Pradesh  4.7   7.5   NaN  NaN    NaN 1990-03-01",
      "text/html": "<div>\n<style scoped>\n    .dataframe tbody tr th:only-of-type {\n        vertical-align: middle;\n    }\n\n    .dataframe tbody tr th {\n        vertical-align: top;\n    }\n\n    .dataframe thead th {\n        text-align: right;\n    }\n</style>\n<table border=\"1\" class=\"dataframe\">\n  <thead>\n    <tr style=\"text-align: right;\">\n      <th></th>\n      <th>state</th>\n      <th>so2</th>\n      <th>no2</th>\n      <th>rspm</th>\n      <th>spm</th>\n      <th>pm2_5</th>\n      <th>date</th>\n    </tr>\n  </thead>\n  <tbody>\n    <tr>\n      <th>0</th>\n      <td>Andhra Pradesh</td>\n      <td>4.8</td>\n      <td>17.4</td>\n      <td>NaN</td>\n      <td>NaN</td>\n      <td>NaN</td>\n      <td>1990-02-01</td>\n    </tr>\n    <tr>\n      <th>1</th>\n      <td>Andhra Pradesh</td>\n      <td>3.1</td>\n      <td>7.0</td>\n      <td>NaN</td>\n      <td>NaN</td>\n      <td>NaN</td>\n      <td>1990-02-01</td>\n    </tr>\n    <tr>\n      <th>2</th>\n      <td>Andhra Pradesh</td>\n      <td>6.2</td>\n      <td>28.5</td>\n      <td>NaN</td>\n      <td>NaN</td>\n      <td>NaN</td>\n      <td>1990-02-01</td>\n    </tr>\n    <tr>\n      <th>3</th>\n      <td>Andhra Pradesh</td>\n      <td>6.3</td>\n      <td>14.7</td>\n      <td>NaN</td>\n      <td>NaN</td>\n      <td>NaN</td>\n      <td>1990-03-01</td>\n    </tr>\n    <tr>\n      <th>4</th>\n      <td>Andhra Pradesh</td>\n      <td>4.7</td>\n      <td>7.5</td>\n      <td>NaN</td>\n      <td>NaN</td>\n      <td>NaN</td>\n      <td>1990-03-01</td>\n    </tr>\n  </tbody>\n</table>\n</div>"
     },
     "execution_count": 7,
     "metadata": {},
     "output_type": "execute_result"
    }
   ],
   "source": [
    "df.head()"
   ]
  },
  {
   "cell_type": "code",
   "execution_count": 8,
   "id": "d5888b14-d067-4ac5-b6da-87c80b985b29",
   "metadata": {
    "ExecuteTime": {
     "end_time": "2024-01-08T12:21:45.189460007Z",
     "start_time": "2024-01-08T12:21:44.768220680Z"
    }
   },
   "outputs": [
    {
     "data": {
      "text/plain": "            state   latitude  longitude  so2   no2  rspm  spm  pm2_5  \\\n0  Andhra Pradesh  14.750429  78.570026  4.8  17.4   NaN  NaN    NaN   \n1  Andhra Pradesh  14.750429  78.570026  3.1   7.0   NaN  NaN    NaN   \n2  Andhra Pradesh  14.750429  78.570026  6.2  28.5   NaN  NaN    NaN   \n3  Andhra Pradesh  14.750429  78.570026  6.3  14.7   NaN  NaN    NaN   \n4  Andhra Pradesh  14.750429  78.570026  4.7   7.5   NaN  NaN    NaN   \n\n        date  \n0 1990-02-01  \n1 1990-02-01  \n2 1990-02-01  \n3 1990-03-01  \n4 1990-03-01  ",
      "text/html": "<div>\n<style scoped>\n    .dataframe tbody tr th:only-of-type {\n        vertical-align: middle;\n    }\n\n    .dataframe tbody tr th {\n        vertical-align: top;\n    }\n\n    .dataframe thead th {\n        text-align: right;\n    }\n</style>\n<table border=\"1\" class=\"dataframe\">\n  <thead>\n    <tr style=\"text-align: right;\">\n      <th></th>\n      <th>state</th>\n      <th>latitude</th>\n      <th>longitude</th>\n      <th>so2</th>\n      <th>no2</th>\n      <th>rspm</th>\n      <th>spm</th>\n      <th>pm2_5</th>\n      <th>date</th>\n    </tr>\n  </thead>\n  <tbody>\n    <tr>\n      <th>0</th>\n      <td>Andhra Pradesh</td>\n      <td>14.750429</td>\n      <td>78.570026</td>\n      <td>4.8</td>\n      <td>17.4</td>\n      <td>NaN</td>\n      <td>NaN</td>\n      <td>NaN</td>\n      <td>1990-02-01</td>\n    </tr>\n    <tr>\n      <th>1</th>\n      <td>Andhra Pradesh</td>\n      <td>14.750429</td>\n      <td>78.570026</td>\n      <td>3.1</td>\n      <td>7.0</td>\n      <td>NaN</td>\n      <td>NaN</td>\n      <td>NaN</td>\n      <td>1990-02-01</td>\n    </tr>\n    <tr>\n      <th>2</th>\n      <td>Andhra Pradesh</td>\n      <td>14.750429</td>\n      <td>78.570026</td>\n      <td>6.2</td>\n      <td>28.5</td>\n      <td>NaN</td>\n      <td>NaN</td>\n      <td>NaN</td>\n      <td>1990-02-01</td>\n    </tr>\n    <tr>\n      <th>3</th>\n      <td>Andhra Pradesh</td>\n      <td>14.750429</td>\n      <td>78.570026</td>\n      <td>6.3</td>\n      <td>14.7</td>\n      <td>NaN</td>\n      <td>NaN</td>\n      <td>NaN</td>\n      <td>1990-03-01</td>\n    </tr>\n    <tr>\n      <th>4</th>\n      <td>Andhra Pradesh</td>\n      <td>14.750429</td>\n      <td>78.570026</td>\n      <td>4.7</td>\n      <td>7.5</td>\n      <td>NaN</td>\n      <td>NaN</td>\n      <td>NaN</td>\n      <td>1990-03-01</td>\n    </tr>\n  </tbody>\n</table>\n</div>"
     },
     "execution_count": 8,
     "metadata": {},
     "output_type": "execute_result"
    }
   ],
   "source": [
    "df=pd.merge(state.set_index(\"state\"),df.set_index(\"state\"), right_index=True, left_index=True).reset_index()\n",
    "df.head()"
   ]
  },
  {
   "cell_type": "code",
   "execution_count": 9,
   "id": "39c290c8-2cd4-4449-9dfc-c6c248e122b0",
   "metadata": {
    "ExecuteTime": {
     "end_time": "2024-01-08T12:21:45.191428747Z",
     "start_time": "2024-01-08T12:21:45.035995925Z"
    }
   },
   "outputs": [
    {
     "data": {
      "text/plain": "state             0\nlatitude          0\nlongitude         0\nso2           30451\nno2           15014\nrspm          36451\nspm          214211\npm2_5        382855\ndate              5\ndtype: int64"
     },
     "execution_count": 9,
     "metadata": {},
     "output_type": "execute_result"
    }
   ],
   "source": [
    "df.isna().sum()"
   ]
  },
  {
   "cell_type": "markdown",
   "id": "9bb31029-a703-4fa7-8cf1-4ca20280d89a",
   "metadata": {},
   "source": [
    "## Cleaning Data"
   ]
  },
  {
   "cell_type": "markdown",
   "id": "e6c8d28c-182f-42ed-9b4b-8d0319e47d0a",
   "metadata": {},
   "source": [
    "### Filling missing value"
   ]
  },
  {
   "cell_type": "code",
   "execution_count": 10,
   "id": "d4909374-8ac2-4704-9875-a38cdb16dfd2",
   "metadata": {
    "ExecuteTime": {
     "end_time": "2024-01-08T12:21:45.242306575Z",
     "start_time": "2024-01-08T12:21:45.046444039Z"
    }
   },
   "outputs": [],
   "source": [
    "col_na = ['so2', 'no2', 'rspm', 'spm', 'pm2_5']\n",
    "for col in col_na:\n",
    "    df[col].fillna(df[col].median(), inplace=True)"
   ]
  },
  {
   "cell_type": "code",
   "execution_count": 11,
   "id": "2c1c5b55-eb17-4251-b0ba-e1a4b81abf71",
   "metadata": {
    "ExecuteTime": {
     "end_time": "2024-01-08T12:21:45.819729635Z",
     "start_time": "2024-01-08T12:21:45.635761147Z"
    }
   },
   "outputs": [
    {
     "data": {
      "text/plain": "state        0\nlatitude     0\nlongitude    0\nso2          0\nno2          0\nrspm         0\nspm          0\npm2_5        0\ndate         5\ndtype: int64"
     },
     "execution_count": 11,
     "metadata": {},
     "output_type": "execute_result"
    }
   ],
   "source": [
    "df.isna().sum()"
   ]
  },
  {
   "cell_type": "code",
   "execution_count": 12,
   "id": "e13e7014-c80f-4126-9575-9aa32630ecc2",
   "metadata": {
    "ExecuteTime": {
     "end_time": "2024-01-08T12:21:46.475685836Z",
     "start_time": "2024-01-08T12:21:46.311091525Z"
    }
   },
   "outputs": [],
   "source": [
    "df.dropna(inplace=True)"
   ]
  },
  {
   "cell_type": "markdown",
   "id": "76b00d14-03c0-412d-b4bf-77e8fb9ecfb2",
   "metadata": {},
   "source": [
    "## date-fix"
   ]
  },
  {
   "cell_type": "code",
   "execution_count": 13,
   "id": "2fa5a34b-13f4-4ac4-a297-74f280ad2a31",
   "metadata": {
    "ExecuteTime": {
     "end_time": "2024-01-08T12:21:50.083690913Z",
     "start_time": "2024-01-08T12:21:47.580964405Z"
    }
   },
   "outputs": [],
   "source": [
    "df['year']= df['date'].apply(lambda x: x.year)\n",
    "df['month']= df['date'].apply(lambda x: x.month)\n",
    "df['day']= df['date'].apply(lambda x: x.day)"
   ]
  },
  {
   "cell_type": "code",
   "execution_count": 13,
   "id": "6e26c473-2782-49d6-8b43-db174bbf1a0e",
   "metadata": {
    "ExecuteTime": {
     "end_time": "2024-01-08T12:21:50.085714361Z",
     "start_time": "2024-01-08T12:21:50.083520131Z"
    }
   },
   "outputs": [],
   "source": []
  },
  {
   "cell_type": "markdown",
   "id": "c1cc6ea0-4976-4962-a6bf-f969d9b3168f",
   "metadata": {},
   "source": [
    "## Calculate AQI"
   ]
  },
  {
   "cell_type": "code",
   "execution_count": 14,
   "id": "d37e51e4-8abf-4e68-96e6-fdeb0847669f",
   "metadata": {
    "ExecuteTime": {
     "end_time": "2024-01-08T12:21:50.113244368Z",
     "start_time": "2024-01-08T12:21:50.091695486Z"
    }
   },
   "outputs": [],
   "source": [
    "import pandas as pd\n",
    "\n",
    "def calculate_aqi(parameter, concentration):\n",
    "    # Define specific AQI breakpoints and corresponding AQI values for each parameter based on Indian standards\n",
    "    parameter_breakpoints = {\n",
    "        'so2': [0, 40, 80, 380, 800, 1600],\n",
    "        'no2': [0, 40, 80, 180, 280, 400],\n",
    "        'rspm': [0, 30, 60, 90, 180, 280],\n",
    "        'spm': [0, 50, 100, 200, 300, 400],\n",
    "        'pm2_5': [0, 30, 60, 90, 120, 250]\n",
    "    }\n",
    "\n",
    "    aqi_values = [0, 50, 100, 200, 300, 400, 500]\n",
    "\n",
    "    for i in range(len(parameter_breakpoints[parameter]) - 1):\n",
    "        if parameter_breakpoints[parameter][i] <= concentration <= parameter_breakpoints[parameter][i + 1]:\n",
    "            break\n",
    "\n",
    "    return ((aqi_values[i + 1] - aqi_values[i]) / (parameter_breakpoints[parameter][i + 1] - parameter_breakpoints[parameter][i])) * (concentration - parameter_breakpoints[parameter][i]) + aqi_values[i]\n",
    "\n",
    "def calculate_overall_aqi(row):\n",
    "    parameters = ['so2', 'no2', 'rspm', 'spm', 'pm2_5']\n",
    "    aqi_values = [calculate_aqi(parameter, row[parameter]) for parameter in parameters]\n",
    "    return max(aqi_values)\n",
    "\n",
    "def interpret_aqi(aqi):\n",
    "    if 0 <= aqi <= 50:\n",
    "        return \"Good\"\n",
    "    elif 51 <= aqi <= 100:\n",
    "        return \"Satisfactory\"\n",
    "    elif 101 <= aqi <= 200:\n",
    "        return \"Moderate\"\n",
    "    elif 201 <= aqi <= 300:\n",
    "        return \"Poor\"\n",
    "    elif 301 <= aqi <= 400:\n",
    "        return \"Very Poor\"\n",
    "    elif 401 <= aqi <= 500:\n",
    "        return \"Severe\"\n",
    "    else:\n",
    "        return \"Invalid AQI value\"\n",
    "\n",
    "def calculate_aqi_for_dataframe(df):\n",
    "    df['aqi'] = df.apply(calculate_overall_aqi, axis=1)\n",
    "    df['aqi_cat'] = df['aqi'].apply(interpret_aqi)\n",
    "    return df"
   ]
  },
  {
   "cell_type": "code",
   "execution_count": 15,
   "id": "ef780377-abc7-4fd0-b681-daa88c6c4957",
   "metadata": {
    "ExecuteTime": {
     "end_time": "2024-01-08T12:22:02.559111265Z",
     "start_time": "2024-01-08T12:21:50.265728907Z"
    }
   },
   "outputs": [],
   "source": [
    "df = calculate_aqi_for_dataframe(df)"
   ]
  },
  {
   "cell_type": "code",
   "execution_count": 16,
   "id": "3b96ec89-618b-4049-a51a-e0fd4b7c0969",
   "metadata": {
    "ExecuteTime": {
     "end_time": "2024-01-08T12:22:02.582023348Z",
     "start_time": "2024-01-08T12:22:02.572139824Z"
    }
   },
   "outputs": [
    {
     "data": {
      "text/plain": "            state   latitude  longitude  so2   no2  rspm    spm  pm2_5  \\\n0  Andhra Pradesh  14.750429  78.570026  4.8  17.4  90.0  192.0   31.0   \n\n        date  year  month  day    aqi   aqi_cat  \n0 1990-02-01  1990      2    1  200.0  Moderate  ",
      "text/html": "<div>\n<style scoped>\n    .dataframe tbody tr th:only-of-type {\n        vertical-align: middle;\n    }\n\n    .dataframe tbody tr th {\n        vertical-align: top;\n    }\n\n    .dataframe thead th {\n        text-align: right;\n    }\n</style>\n<table border=\"1\" class=\"dataframe\">\n  <thead>\n    <tr style=\"text-align: right;\">\n      <th></th>\n      <th>state</th>\n      <th>latitude</th>\n      <th>longitude</th>\n      <th>so2</th>\n      <th>no2</th>\n      <th>rspm</th>\n      <th>spm</th>\n      <th>pm2_5</th>\n      <th>date</th>\n      <th>year</th>\n      <th>month</th>\n      <th>day</th>\n      <th>aqi</th>\n      <th>aqi_cat</th>\n    </tr>\n  </thead>\n  <tbody>\n    <tr>\n      <th>0</th>\n      <td>Andhra Pradesh</td>\n      <td>14.750429</td>\n      <td>78.570026</td>\n      <td>4.8</td>\n      <td>17.4</td>\n      <td>90.0</td>\n      <td>192.0</td>\n      <td>31.0</td>\n      <td>1990-02-01</td>\n      <td>1990</td>\n      <td>2</td>\n      <td>1</td>\n      <td>200.0</td>\n      <td>Moderate</td>\n    </tr>\n  </tbody>\n</table>\n</div>"
     },
     "execution_count": 16,
     "metadata": {},
     "output_type": "execute_result"
    }
   ],
   "source": [
    "df.head(1)"
   ]
  },
  {
   "cell_type": "code",
   "execution_count": 17,
   "id": "b23efcdd-e3f9-41e6-98d6-6cb2546c2623",
   "metadata": {
    "ExecuteTime": {
     "end_time": "2024-01-08T12:22:02.694214188Z",
     "start_time": "2024-01-08T12:22:02.579089334Z"
    }
   },
   "outputs": [
    {
     "data": {
      "text/plain": "              aqi\ncount   29.000000\nmean   257.053048\nstd     21.951486\nmin    215.030044\n25%    242.810407\n50%    253.775140\n75%    273.155924\nmax    318.791525",
      "text/html": "<div>\n<style scoped>\n    .dataframe tbody tr th:only-of-type {\n        vertical-align: middle;\n    }\n\n    .dataframe tbody tr th {\n        vertical-align: top;\n    }\n\n    .dataframe thead th {\n        text-align: right;\n    }\n</style>\n<table border=\"1\" class=\"dataframe\">\n  <thead>\n    <tr style=\"text-align: right;\">\n      <th></th>\n      <th>aqi</th>\n    </tr>\n  </thead>\n  <tbody>\n    <tr>\n      <th>count</th>\n      <td>29.000000</td>\n    </tr>\n    <tr>\n      <th>mean</th>\n      <td>257.053048</td>\n    </tr>\n    <tr>\n      <th>std</th>\n      <td>21.951486</td>\n    </tr>\n    <tr>\n      <th>min</th>\n      <td>215.030044</td>\n    </tr>\n    <tr>\n      <th>25%</th>\n      <td>242.810407</td>\n    </tr>\n    <tr>\n      <th>50%</th>\n      <td>253.775140</td>\n    </tr>\n    <tr>\n      <th>75%</th>\n      <td>273.155924</td>\n    </tr>\n    <tr>\n      <th>max</th>\n      <td>318.791525</td>\n    </tr>\n  </tbody>\n</table>\n</div>"
     },
     "execution_count": 17,
     "metadata": {},
     "output_type": "execute_result"
    }
   ],
   "source": [
    "df[['year','aqi']].groupby('year').mean().describe()"
   ]
  },
  {
   "cell_type": "code",
   "execution_count": 18,
   "id": "3bfd7a04-11e8-4fdc-863d-c3d19ab29d12",
   "metadata": {
    "ExecuteTime": {
     "end_time": "2024-01-08T12:22:03.138648847Z",
     "start_time": "2024-01-08T12:22:02.621979078Z"
    }
   },
   "outputs": [
    {
     "data": {
      "text/plain": "<Axes: xlabel='year'>"
     },
     "execution_count": 18,
     "metadata": {},
     "output_type": "execute_result"
    },
    {
     "data": {
      "text/plain": "<Figure size 640x480 with 1 Axes>",
      "image/png": "[encoded data removed]"
     },
     "metadata": {},
     "output_type": "display_data"
    }
   ],
   "source": [
    "df[ df.state =='Delhi'][['aqi','year']].groupby('year').mean().plot()"
   ]
  },
  {
   "cell_type": "markdown",
   "id": "e4b461b5-28e8-42d6-b5d8-93a12cd60bca",
   "metadata": {},
   "source": [
    "### cat-codes"
   ]
  },
  {
   "cell_type": "code",
   "execution_count": 19,
   "id": "a2e289ac-2f38-4dbd-9994-d68378d133b9",
   "metadata": {
    "ExecuteTime": {
     "end_time": "2024-01-08T12:22:03.213374558Z",
     "start_time": "2024-01-08T12:22:03.098126454Z"
    }
   },
   "outputs": [
    {
     "data": {
      "text/plain": "array(['Andhra Pradesh', 'Arunachal Pradesh', 'Assam', 'Bihar',\n       'Chandigarh', 'Chhattisgarh', 'Delhi', 'Goa', 'Haryana',\n       'Himachal Pradesh', 'Jharkhand', 'Karnataka', 'Kerala',\n       'Madhya Pradesh', 'Maharashtra', 'Manipur', 'Meghalaya', 'Mizoram',\n       'Nagaland', 'Puducherry', 'Punjab', 'Rajasthan', 'Sikkim',\n       'Tamil Nadu', 'Uttar Pradesh', 'Uttaranchal', 'West Bengal'],\n      dtype=object)"
     },
     "execution_count": 19,
     "metadata": {},
     "output_type": "execute_result"
    }
   ],
   "source": [
    "df.state.unique()"
   ]
  },
  {
   "cell_type": "code",
   "execution_count": 20,
   "id": "b522e738-dbf8-4de9-94f4-00750b0cb8f9",
   "metadata": {
    "ExecuteTime": {
     "end_time": "2024-01-08T12:22:03.415500446Z",
     "start_time": "2024-01-08T12:22:03.141955342Z"
    }
   },
   "outputs": [],
   "source": [
    "from sklearn.preprocessing import LabelEncoder"
   ]
  },
  {
   "cell_type": "code",
   "execution_count": 21,
   "id": "eddae57d-1a29-4bb5-be97-91d467acc95e",
   "metadata": {
    "ExecuteTime": {
     "end_time": "2024-01-08T12:22:03.449773436Z",
     "start_time": "2024-01-08T12:22:03.227458652Z"
    }
   },
   "outputs": [],
   "source": [
    "le = LabelEncoder()\n",
    "le.fit(df.state)\n",
    "df['state'] = le.transform(df.state)"
   ]
  },
  {
   "cell_type": "code",
   "execution_count": 22,
   "id": "17358b06-6998-4564-a114-f23ae582bcd2",
   "metadata": {
    "ExecuteTime": {
     "end_time": "2024-01-08T12:22:03.450688759Z",
     "start_time": "2024-01-08T12:22:03.284414378Z"
    }
   },
   "outputs": [
    {
     "data": {
      "text/plain": "array([ 0,  1,  2,  3,  4,  5,  6,  7,  8,  9, 10, 11, 12, 13, 14, 15, 16,\n       17, 18, 19, 20, 21, 22, 23, 24, 25, 26])"
     },
     "execution_count": 22,
     "metadata": {},
     "output_type": "execute_result"
    }
   ],
   "source": [
    "df.state.unique()"
   ]
  },
  {
   "cell_type": "markdown",
   "id": "a83ab2fc-fe17-4027-b517-90044d31d1ff",
   "metadata": {},
   "source": [
    "## Model Training"
   ]
  },
  {
   "cell_type": "code",
   "execution_count": 23,
   "id": "8832fe67-f2e7-4352-9e93-132ba8591cd6",
   "metadata": {
    "ExecuteTime": {
     "end_time": "2024-01-08T12:22:03.451047214Z",
     "start_time": "2024-01-08T12:22:03.293026853Z"
    }
   },
   "outputs": [],
   "source": [
    "indep = ['state','year', 'month','aqi']\n",
    "dep = 'aqi'"
   ]
  },
  {
   "cell_type": "code",
   "execution_count": 24,
   "id": "b3d5f8f2-4265-4734-8d32-b6c6e0d6a11a",
   "metadata": {
    "ExecuteTime": {
     "end_time": "2024-01-08T12:22:03.451417857Z",
     "start_time": "2024-01-08T12:22:03.300549596Z"
    }
   },
   "outputs": [],
   "source": [
    "x = df[indep].groupby(['state','year','month']).mean().reset_index()\n",
    "y = x['aqi']\n",
    "x = x[['state','year','month']]"
   ]
  },
  {
   "cell_type": "code",
   "execution_count": 24,
   "id": "6bd94b25-1f37-473e-a8f6-88e2ddeab3cc",
   "metadata": {
    "ExecuteTime": {
     "end_time": "2024-01-08T12:22:03.451779276Z",
     "start_time": "2024-01-08T12:22:03.348587145Z"
    }
   },
   "outputs": [],
   "source": []
  },
  {
   "cell_type": "code",
   "execution_count": 25,
   "id": "92cca3b9-e0ce-4a32-8f4b-bece3d124d23",
   "metadata": {
    "ExecuteTime": {
     "end_time": "2024-01-08T12:22:03.452155444Z",
     "start_time": "2024-01-08T12:22:03.356031671Z"
    }
   },
   "outputs": [],
   "source": [
    "x.sort_values(by=['year','month'], inplace=True)"
   ]
  },
  {
   "cell_type": "code",
   "execution_count": 25,
   "id": "84cda427-15e0-44f6-97d9-a74802acd1ac",
   "metadata": {
    "ExecuteTime": {
     "end_time": "2024-01-08T12:22:03.452450156Z",
     "start_time": "2024-01-08T12:22:03.360623149Z"
    }
   },
   "outputs": [],
   "source": []
  },
  {
   "cell_type": "markdown",
   "id": "ed38be17-84c0-4561-bfaf-f114c1a7b8af",
   "metadata": {},
   "source": [
    "#### Train test split"
   ]
  },
  {
   "cell_type": "code",
   "execution_count": 26,
   "id": "ef724ae5-33fb-4400-85c3-cc2564ea3960",
   "metadata": {
    "ExecuteTime": {
     "end_time": "2024-01-08T12:22:03.454066530Z",
     "start_time": "2024-01-08T12:22:03.364942635Z"
    }
   },
   "outputs": [],
   "source": [
    "x_train, x_test = x[x.year>=1800][x.year<2015],x[x.year==2015]\n",
    "y_train, y_test = y[x_train.index], y[x_test.index]"
   ]
  },
  {
   "cell_type": "code",
   "execution_count": 27,
   "id": "101f88ea-b0cb-4579-8567-771352ccee44",
   "metadata": {
    "ExecuteTime": {
     "end_time": "2024-01-08T12:22:03.454876713Z",
     "start_time": "2024-01-08T12:22:03.409911347Z"
    }
   },
   "outputs": [
    {
     "data": {
      "text/plain": "((6056, 3), (259, 3))"
     },
     "execution_count": 27,
     "metadata": {},
     "output_type": "execute_result"
    }
   ],
   "source": [
    "x_train.shape, x_test.shape"
   ]
  },
  {
   "cell_type": "markdown",
   "id": "f552e903-4ca0-40d6-9882-e4b178f8f29d",
   "metadata": {},
   "source": [
    "### Model1"
   ]
  },
  {
   "cell_type": "code",
   "execution_count": 28,
   "id": "4bbd46b4-244f-4339-bcdb-1b06d0e29d2b",
   "metadata": {
    "ExecuteTime": {
     "end_time": "2024-01-08T12:22:05.750940518Z",
     "start_time": "2024-01-08T12:22:03.728648176Z"
    }
   },
   "outputs": [
    {
     "data": {
      "text/plain": "0.7627832794894525"
     },
     "execution_count": 28,
     "metadata": {},
     "output_type": "execute_result"
    }
   ],
   "source": [
    "from sklearn.ensemble import RandomForestRegressor\n",
    "m = RandomForestRegressor(300,max_depth=10)\n",
    "m.fit(x_train, y_train)\n",
    "pred = m.predict(x_test)\n",
    "m.score(x_test, y_test)"
   ]
  },
  {
   "cell_type": "code",
   "execution_count": 29,
   "id": "39b09b43-aece-415e-8797-1c31937a8343",
   "metadata": {
    "ExecuteTime": {
     "end_time": "2024-01-08T12:22:05.848154282Z",
     "start_time": "2024-01-08T12:22:05.810027560Z"
    }
   },
   "outputs": [
    {
     "data": {
      "text/plain": "457.4525137337072"
     },
     "execution_count": 29,
     "metadata": {},
     "output_type": "execute_result"
    }
   ],
   "source": [
    "from sklearn.metrics import mean_squared_error\n",
    "mean_squared_error(y_test, pred)"
   ]
  },
  {
   "cell_type": "markdown",
   "id": "c71570e1-d496-4e8b-b643-4e04a23c48bf",
   "metadata": {},
   "source": [
    "### Model2\n"
   ]
  },
  {
   "cell_type": "code",
   "execution_count": 30,
   "id": "5c7afa44-edee-4ed7-9c0e-55080c35bdc4",
   "metadata": {
    "ExecuteTime": {
     "end_time": "2024-01-08T12:22:06.130252337Z",
     "start_time": "2024-01-08T12:22:06.006170723Z"
    }
   },
   "outputs": [],
   "source": [
    "from sklearn.tree import DecisionTreeRegressor"
   ]
  },
  {
   "cell_type": "code",
   "execution_count": 31,
   "id": "dea66c8e-3af3-4de9-81d6-b63fa2232bec",
   "metadata": {
    "ExecuteTime": {
     "end_time": "2024-01-08T12:22:06.715247958Z",
     "start_time": "2024-01-08T12:22:06.660266943Z"
    }
   },
   "outputs": [
    {
     "data": {
      "text/plain": "0.7910488459476583"
     },
     "execution_count": 31,
     "metadata": {},
     "output_type": "execute_result"
    }
   ],
   "source": [
    "tree = DecisionTreeRegressor()\n",
    "tree.fit(x_train, y_train)\n",
    "pred = tree.predict(x_test)\n",
    "tree.score(x_test, y_test)"
   ]
  },
  {
   "cell_type": "markdown",
   "id": "5996e01f-9e44-4092-bbc8-ee9624c46e7a",
   "metadata": {},
   "source": [
    "### Model3"
   ]
  },
  {
   "cell_type": "code",
   "execution_count": 32,
   "id": "faae024b-e028-4b38-935a-ffd0e46e27a0",
   "metadata": {
    "ExecuteTime": {
     "end_time": "2024-01-08T12:22:10.453597972Z",
     "start_time": "2024-01-08T12:22:08.112006784Z"
    }
   },
   "outputs": [
    {
     "data": {
      "text/plain": "-0.03364246680817162"
     },
     "execution_count": 32,
     "metadata": {},
     "output_type": "execute_result"
    }
   ],
   "source": [
    "from sklearn.svm import SVR\n",
    "svr = SVR()\n",
    "svr.fit(x_train, y_train)\n",
    "pred = svr.predict(x_test)\n",
    "svr.score(x_test, y_test)"
   ]
  },
  {
   "cell_type": "markdown",
   "id": "ab2d6d8a-f7a7-42c0-88a8-70479fc3fcd7",
   "metadata": {},
   "source": [
    "# max 79.1% r2 score"
   ]
  },
  {
   "cell_type": "code",
   "execution_count": 32,
   "id": "3c64a85e-4a4b-4bf6-8d94-72e3995727f5",
   "metadata": {
    "ExecuteTime": {
     "end_time": "2024-01-08T12:22:10.454094912Z",
     "start_time": "2024-01-08T12:22:10.402487468Z"
    }
   },
   "outputs": [],
   "source": []
  },
  {
   "cell_type": "code",
   "execution_count": 33,
   "id": "ccdf79ce-2ecf-4557-8fa8-71d53fe8d881",
   "metadata": {
    "ExecuteTime": {
     "end_time": "2024-01-08T12:22:10.454463968Z",
     "start_time": "2024-01-08T12:22:10.449948104Z"
    }
   },
   "outputs": [],
   "source": [
    "from sklearn.metrics import mean_squared_error, r2_score, accuracy_score\n",
    "\n",
    "def print_score(x_test=x_test, y_test=y_test):\n",
    "    y_true = y_test\n",
    "    y_pred = weighted_avg(models, weights, x_test)['prediction']\n",
    "    \n",
    "    print('f1 mean_squared_error: ', mean_squared_error(y_true, y_pred))\n",
    "    print('r2_score : ', r2_score(y_true, y_pred))\n",
    "    # print('accuracy_score : ', accuracy_score(y_true, y_pred))"
   ]
  },
  {
   "cell_type": "markdown",
   "id": "ab79be76-f4c6-431a-9f5f-14d6d1544f61",
   "metadata": {},
   "source": [
    "## Weighted Avg"
   ]
  },
  {
   "cell_type": "code",
   "execution_count": 34,
   "id": "b833bb9f-832f-4477-8fc7-2539f09fef71",
   "metadata": {
    "ExecuteTime": {
     "end_time": "2024-01-08T12:22:11.809928887Z",
     "start_time": "2024-01-08T12:22:11.760080944Z"
    }
   },
   "outputs": [],
   "source": [
    "def weighted_avg(models: list, weights: list, predict_df: pd.DataFrame):\n",
    "    \"\"\"\n",
    "    calculates weighted average of predictions of list of models\n",
    "    \"\"\"\n",
    "    preds = pd.DataFrame()\n",
    "    \n",
    "    for i, m in enumerate(models):\n",
    "        m.fit(x_train, y_train)\n",
    "        preds[i] = m.predict(predict_df)\n",
    "        \n",
    "    preds['weighted_pred'] = (preds * weights).sum(axis=1) / sum(weights)\n",
    "    preds['prediction'] = preds['weighted_pred']\n",
    "    return preds"
   ]
  },
  {
   "cell_type": "code",
   "execution_count": 38,
   "id": "80f43010-e954-4fd0-8ffb-9e1ae9c2ef67",
   "metadata": {
    "ExecuteTime": {
     "end_time": "2024-01-08T12:22:59.845785141Z",
     "start_time": "2024-01-08T12:22:54.462923543Z"
    }
   },
   "outputs": [
    {
     "name": "stdout",
     "output_type": "stream",
     "text": [
      "f1 mean_squared_error:  383.1532392770951\n",
      "r2_score :  0.801311934800702\n"
     ]
    }
   ],
   "source": [
    "models = [\n",
    "    RandomForestRegressor(100,max_depth=10, random_state=42),\n",
    "    DecisionTreeRegressor(random_state=42),\n",
    "    SVR()\n",
    "]\n",
    "\n",
    "# set weights \n",
    "weights = [0.5,0.7,0.1]\n",
    "\n",
    "# calculating final predictions\n",
    "preds = weighted_avg(models, weights, x_test)\n",
    "\n",
    "print_score()   # score on training data"
   ]
  },
  {
   "cell_type": "markdown",
   "id": "3d5426ae-81b4-4275-ad68-7cfeb00ce813",
   "metadata": {},
   "source": [
    " "
   ]
  },
  {
   "cell_type": "markdown",
   "id": "062c2ad8-13bc-48d8-9c5a-4e095bfbaacf",
   "metadata": {},
   "source": [
    "So the error improved and now we can use this model for future use"
   ]
  },
  {
   "cell_type": "markdown",
   "id": "4e85a638-5b5b-4b51-a8d0-450b7a8589f8",
   "metadata": {},
   "source": [
    "# 80.1% r2 score"
   ]
  },
  {
   "cell_type": "code",
   "execution_count": 39,
   "id": "6bc892f5-c21c-47ed-b414-8ca18ef85d2c",
   "metadata": {
    "ExecuteTime": {
     "end_time": "2024-01-08T12:22:59.915811930Z",
     "start_time": "2024-01-08T12:22:59.847651708Z"
    }
   },
   "outputs": [],
   "source": [
    "def train_models(models, weights):\n",
    "    trained_models = []\n",
    "    for i,m in enumerate(models):\n",
    "        m.fit(x_train, y_train)\n",
    "        trained_models.append(m)\n",
    "    return trained_models"
   ]
  },
  {
   "cell_type": "markdown",
   "id": "e2b1d6cc-fc97-4b63-b660-ec17a5ae6cb4",
   "metadata": {},
   "source": [
    "# saving models"
   ]
  },
  {
   "cell_type": "code",
   "execution_count": 40,
   "id": "3ff035e0-8739-475e-890d-9bd32b259503",
   "metadata": {
    "ExecuteTime": {
     "end_time": "2024-01-08T12:23:02.763654899Z",
     "start_time": "2024-01-08T12:22:59.890220394Z"
    }
   },
   "outputs": [],
   "source": [
    "models = [\n",
    "    RandomForestRegressor(100,max_depth=10, random_state=42),\n",
    "    DecisionTreeRegressor(random_state=42),\n",
    "    SVR()\n",
    "]\n",
    "\n",
    "# set weights \n",
    "weights = [0.5,0.7,0.1]\n",
    "\n",
    "# train models\n",
    "trained_models = train_models(models, weights)"
   ]
  },
  {
   "cell_type": "code",
   "execution_count": 41,
   "id": "1d50454b-51e9-4732-a534-0f86de0e1769",
   "metadata": {
    "ExecuteTime": {
     "end_time": "2024-01-08T12:23:02.764266936Z",
     "start_time": "2024-01-08T12:23:02.735195071Z"
    }
   },
   "outputs": [],
   "source": [
    "import joblib"
   ]
  },
  {
   "cell_type": "code",
   "execution_count": 42,
   "id": "ba5aec38-8358-4fa5-9743-b2955bf375a6",
   "metadata": {
    "ExecuteTime": {
     "end_time": "2024-01-08T12:23:02.843103414Z",
     "start_time": "2024-01-08T12:23:02.739158656Z"
    }
   },
   "outputs": [
    {
     "data": {
      "text/plain": "['model_weights.pkl']"
     },
     "execution_count": 42,
     "metadata": {},
     "output_type": "execute_result"
    }
   ],
   "source": [
    "joblib.dump(models, \"weighted_models.pkl\")\n",
    "joblib.dump(weights, \"model_weights.pkl\")"
   ]
  },
  {
   "cell_type": "markdown",
   "id": "807d21e8-43e2-4d6a-b24a-8d9326b5e59f",
   "metadata": {},
   "source": [
    "## Load Models"
   ]
  },
  {
   "cell_type": "code",
   "execution_count": 40,
   "id": "65ea9a05-b99e-44d8-9933-5588d2ce1880",
   "metadata": {
    "ExecuteTime": {
     "end_time": "2024-01-08T09:21:04.015103164Z",
     "start_time": "2024-01-08T09:21:03.934629185Z"
    }
   },
   "outputs": [],
   "source": [
    "import joblib\n",
    "\n",
    "# Load the models and weights\n",
    "models = joblib.load(\"weighted_models.pkl\")\n",
    "weights = joblib.load(\"model_weights.pkl\")\n",
    "\n",
    "# Define a function for weighted averaging\n",
    "def weighted_average_prediction(models, weights, input_data):\n",
    "    predictions = [model.predict(input_data) for model in models]\n",
    "    weighted_prediction = sum(weight * prediction for weight, prediction in zip(weights, predictions))\n",
    "    return weighted_prediction\n",
    "\n",
    "def weighted_avg(models: list, weights: list, predict_df: pd.DataFrame):\n",
    "    \"\"\"\n",
    "    calculates weighted average of predictions of list of models\n",
    "    \"\"\"\n",
    "    preds = pd.DataFrame()\n",
    "    \n",
    "    for i, m in enumerate(models):\n",
    "        m.fit(x_train, y_train)\n",
    "        preds[i] = m.predict(predict_df)\n",
    "        \n",
    "    preds['weighted_pred'] = (preds * weights).sum(axis=1) / sum(weights)\n",
    "    preds['prediction'] = preds['weighted_pred']\n",
    "    return preds\n",
    "\n"
   ]
  },
  {
   "cell_type": "code",
   "execution_count": 45,
   "id": "70b9d8c8-8306-4f24-8f76-39c06c0260a2",
   "metadata": {
    "ExecuteTime": {
     "end_time": "2024-01-08T09:25:27.398186297Z",
     "start_time": "2024-01-08T09:25:27.332852340Z"
    }
   },
   "outputs": [],
   "source": [
    "mapping = dict(zip(range(len(le.classes_)), le.classes_))"
   ]
  },
  {
   "cell_type": "code",
   "execution_count": 46,
   "outputs": [],
   "source": [],
   "metadata": {
    "collapsed": false,
    "ExecuteTime": {
     "end_time": "2024-01-08T09:26:47.856858130Z",
     "start_time": "2024-01-08T09:26:47.838428870Z"
    }
   },
   "id": "e96de03c1ae50c4"
  },
  {
   "cell_type": "code",
   "execution_count": 48,
   "outputs": [],
   "source": [
    "from constants import state_dict_reverse"
   ],
   "metadata": {
    "collapsed": false,
    "ExecuteTime": {
     "end_time": "2024-01-08T09:27:34.420285935Z",
     "start_time": "2024-01-08T09:27:34.359265824Z"
    }
   },
   "id": "8668566bddb1aa84"
  },
  {
   "cell_type": "code",
   "execution_count": 52,
   "outputs": [],
   "source": [],
   "metadata": {
    "collapsed": false,
    "ExecuteTime": {
     "end_time": "2024-01-08T09:28:35.710748288Z",
     "start_time": "2024-01-08T09:28:35.682691808Z"
    }
   },
   "id": "5a0eb103898ed7fa"
  },
  {
   "cell_type": "code",
   "execution_count": 52,
   "outputs": [],
   "source": [],
   "metadata": {
    "collapsed": false,
    "ExecuteTime": {
     "end_time": "2024-01-08T09:28:38.430137723Z",
     "start_time": "2024-01-08T09:28:38.405735810Z"
    }
   },
   "id": "a30d841f75969945"
  },
  {
   "cell_type": "code",
   "execution_count": 60,
   "outputs": [],
   "source": [
    "x['aqi'] = y"
   ],
   "metadata": {
    "collapsed": false,
    "ExecuteTime": {
     "end_time": "2024-01-08T09:58:29.539399772Z",
     "start_time": "2024-01-08T09:58:29.499284974Z"
    }
   },
   "id": "1ddac13d2d967f2f"
  },
  {
   "cell_type": "code",
   "execution_count": 62,
   "outputs": [],
   "source": [
    "x.to_csv('historical_data_cleaned.csv', index=None)"
   ],
   "metadata": {
    "collapsed": false,
    "ExecuteTime": {
     "end_time": "2024-01-08T09:59:34.073451642Z",
     "start_time": "2024-01-08T09:59:33.969345623Z"
    }
   },
   "id": "98ce447b4853f807"
  },
  {
   "cell_type": "code",
   "execution_count": null,
   "outputs": [],
   "source": [],
   "metadata": {
    "collapsed": false
   },
   "id": "aa2364120a7acea1"
  }
 ],
 "metadata": {
  "kernelspec": {
   "display_name": "Python 3 (ipykernel)",
   "language": "python",
   "name": "python3"
  },
  "language_info": {
   "codemirror_mode": {
    "name": "ipython",
    "version": 3
   },
   "file_extension": ".py",
   "mimetype": "text/x-python",
   "name": "python",
   "nbconvert_exporter": "python",
   "pygments_lexer": "ipython3",
   "version": "3.11.0rc1"
  }
 },
 "nbformat": 4,
 "nbformat_minor": 5
}
